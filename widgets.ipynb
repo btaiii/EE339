{
 "cells": [
  {
   "cell_type": "markdown",
   "id": "1f65d094-42b0-4697-9575-209409f8c7bd",
   "metadata": {},
   "source": [
    "<style>\n",
    "h1, h2 { margin: 0 0 10px 0 !important;}\n",
    "img { width: 400px; }\n",
    "img#PeriodicTable { width: 100%; border: 10px solid lightgray; border-radius: 5px;}\n",
    "div.f18 { font-size: 18pt;}\n",
    "div.f18 p { text-align: justify; }\n",
    "div.answer { border: 8px solid #ffc680; border-radius: 8px; }\n",
    "hr { width: 90%; border: 10px solid #ffc680; border-radius: 10px;}        \n",
    "div.f18 code { color: SteelBlue; }\n",
    "pre.code { color: SteelBlue; }\n",
    "div.topic { color: crimson;  font-style: italic; }\n",
    "div.separator { padding: 20px 0; }\n",
    "label.widget-label { width: 300px; }\n",
    "    \n",
    ".right { text-align: right; }\n",
    ".center { text-align: center; }\n",
    ".burnt-orange { color: #cc5500; }\n",
    ".red { color: crimson; }\n",
    ".green { color: ForestGreen; }\n",
    "</style>"
   ]
  },
  {
   "cell_type": "code",
   "execution_count": 6,
   "id": "dd34ca81-9975-4fc7-88e6-d906a97a2392",
   "metadata": {},
   "outputs": [
    {
     "data": {
      "text/html": [
       "<style>\n",
       "h1, h2 { margin: 0 0 10px 0 !important;}\n",
       "img { width: 400px; }\n",
       "img#PeriodicTable { width: 100%; border: 10px solid lightgray; border-radius: 5px;}\n",
       "div.f18 { font-size: 18pt;}\n",
       "div.f18 p { text-align: justify; }\n",
       "div.answer { border: 8px solid #ffc680; border-radius: 8px; }\n",
       "hr { width: 90%; border: 10px solid #ffc680; border-radius: 10px;}        \n",
       "div.f18 code { color: SteelBlue; }\n",
       "pre.code { color: SteelBlue; }\n",
       "div.topic { color: crimson;  font-style: italic; }\n",
       "div.separator { padding: 20px 0; }\n",
       "# label.widget-label { font-size: 20pt; width: 300px; }\n",
       "label.widget-label { font-size: 18pt; width: 300px !important; }\n",
       "div.widget-dropdown { width: 400px !important; margin: 10px; }\n",
       "div.jupyter-widgets select {font-size: 18pt; text-align-last: right; }\n",
       "# div.jupyter-widgets select {font-size: 20pt; height: 25pt; line-height: 25pt; text-align-last: right; }\n",
       "    \n",
       ".right { text-align: right; }\n",
       ".center { text-align: center; }\n",
       ".burnt-orange { color: #cc5500; }\n",
       ".red { color: crimson; }\n",
       ".green { color: ForestGreen; }\n",
       "</style>\n"
      ],
      "text/plain": [
       "<IPython.core.display.HTML object>"
      ]
     },
     "metadata": {},
     "output_type": "display_data"
    }
   ],
   "source": [
    "%%html\n",
    "<style>\n",
    "h1, h2 { margin: 0 0 10px 0 !important;}\n",
    "img { width: 400px; }\n",
    "img#PeriodicTable { width: 100%; border: 10px solid lightgray; border-radius: 5px;}\n",
    "div.f18 { font-size: 18pt;}\n",
    "div.f18 p { text-align: justify; }\n",
    "div.answer { border: 8px solid #ffc680; border-radius: 8px; }\n",
    "hr { width: 90%; border: 10px solid #ffc680; border-radius: 10px;}        \n",
    "div.f18 code { color: SteelBlue; }\n",
    "pre.code { color: SteelBlue; }\n",
    "div.topic { color: crimson;  font-style: italic; }\n",
    "div.separator { padding: 20px 0; }\n",
    "# label.widget-label { font-size: 20pt; width: 300px; }\n",
    "label.widget-label { font-size: 18pt; width: 300px !important; }\n",
    "div.widget-dropdown { width: 400px !important; margin: 10px; }\n",
    "div.jupyter-widgets select {font-size: 18pt; text-align-last: right; }\n",
    "# div.jupyter-widgets select {font-size: 20pt; height: 25pt; line-height: 25pt; text-align-last: right; }\n",
    "    \n",
    ".right { text-align: right; }\n",
    ".center { text-align: center; }\n",
    ".burnt-orange { color: #cc5500; }\n",
    ".red { color: crimson; }\n",
    ".green { color: ForestGreen; }\n",
    "</style>"
   ]
  },
  {
   "cell_type": "code",
   "execution_count": 7,
   "id": "1da8e9a5-7d25-4a76-8691-09d025bfc2ad",
   "metadata": {},
   "outputs": [],
   "source": [
    "# widget packages\n",
    "import ipywidgets as widgets"
   ]
  },
  {
   "cell_type": "markdown",
   "id": "2e22b41e-ef22-4ce5-9a45-4c90687122a0",
   "metadata": {},
   "source": [
    "<style>\n",
    "h1, h2 { margin: 0 0 10px 0 !important;}\n",
    "img { width: 400px; }\n",
    "img#PeriodicTable { width: 100%; border: 10px solid lightgray; border-radius: 5px;}\n",
    "div.f18 { font-size: 18pt;}\n",
    "div.f18 p { text-align: justify; }\n",
    "div.answer { border: 8px solid #ffc680; border-radius: 8px; }\n",
    "hr { width: 90%; border: 10px solid #ffc680; border-radius: 10px;}        \n",
    "div.f18 code { color: SteelBlue; }\n",
    "pre.code { color: SteelBlue; }\n",
    "div.topic { color: crimson;  font-style: italic; }\n",
    "div.separator { padding: 20px 0; }\n",
    "label.widget-label { width: 300px; }\n",
    "    \n",
    ".right { text-align: right; }\n",
    ".center { text-align: center; }\n",
    ".burnt-orange { color: #cc5500; }\n",
    ".red { color: crimson; }\n",
    ".green { color: ForestGreen; }\n",
    "</style>"
   ]
  },
  {
   "cell_type": "code",
   "execution_count": 8,
   "id": "689ce96d-1a87-46a1-bc93-b43fa2b6bef1",
   "metadata": {},
   "outputs": [
    {
     "data": {
      "application/vnd.jupyter.widget-view+json": {
       "model_id": "2e5cd1348f3649c096c3174a99f060a5",
       "version_major": 2,
       "version_minor": 0
      },
      "text/plain": [
       "Dropdown(description='Column for silicon:', options=('-', 'IIB', 'IIIA', 'IVA'), value='-')"
      ]
     },
     "metadata": {},
     "output_type": "display_data"
    },
    {
     "data": {
      "application/vnd.jupyter.widget-view+json": {
       "model_id": "999e75e05ef54261bc1365d32f913539",
       "version_major": 2,
       "version_minor": 0
      },
      "text/plain": [
       "Dropdown(description='Column for gallium:', options=('-', 'IIB', 'IIIA', 'IVA'), value='-')"
      ]
     },
     "metadata": {},
     "output_type": "display_data"
    }
   ],
   "source": [
    "dropdownSi = widgets.Dropdown(\n",
    "       # style={'description_width': 'initial'},\n",
    "       options=['-', 'IIB', 'IIIA', 'IVA'],\n",
    "       description='Column for silicon:')\n",
    "dropdownGa = widgets.Dropdown(\n",
    "       # style={'description_width': 'initial'},\n",
    "        # layout={'width': '290px'},\n",
    "       options=['-', 'IIB', 'IIIA', 'IVA'],\n",
    "       description='Column for gallium:')\n",
    "display(dropdownSi)\n",
    "display(dropdownGa)\n",
    "# widgets.HBox([widgets.Label('Column for gallium'), dropdownGa])"
   ]
  },
  {
   "cell_type": "code",
   "execution_count": 9,
   "id": "9246af81-7240-463f-867d-cdc4691501a8",
   "metadata": {},
   "outputs": [],
   "source": [
    "# defining some widgets\n",
    "text = widgets.Text(\n",
    "       value='My Text',\n",
    "       description='Title', )\n",
    "calendar = widgets.DatePicker(\n",
    "           description='Select Date')\n",
    "slider = widgets.FloatSlider(\n",
    "         value=1,\n",
    "         min=0,\n",
    "         max=10.0,\n",
    "         step=0.1,)\n",
    "checkbox = widgets.Checkbox(\n",
    "           description='Check to invert',)"
   ]
  },
  {
   "cell_type": "code",
   "execution_count": 10,
   "id": "3392a6d6-0811-4a56-a841-b50fa0d65fea",
   "metadata": {},
   "outputs": [
    {
     "data": {
      "application/vnd.jupyter.widget-view+json": {
       "model_id": "1f273e658cfe4f72ab34360a86261742",
       "version_major": 2,
       "version_minor": 0
      },
      "text/plain": [
       "FloatSlider(value=1.0, max=10.0)"
      ]
     },
     "metadata": {},
     "output_type": "display_data"
    }
   ],
   "source": [
    "slider"
   ]
  },
  {
   "cell_type": "code",
   "execution_count": 12,
   "id": "5610bd58-4c54-4ff1-9590-a70c8c9bf7b5",
   "metadata": {},
   "outputs": [
    {
     "data": {
      "text/plain": [
       "7.6"
      ]
     },
     "execution_count": 12,
     "metadata": {},
     "output_type": "execute_result"
    }
   ],
   "source": [
    "slider.value"
   ]
  }
 ],
 "metadata": {
  "kernelspec": {
   "display_name": "Python 3 (ipykernel)",
   "language": "python",
   "name": "python3"
  },
  "language_info": {
   "codemirror_mode": {
    "name": "ipython",
    "version": 3
   },
   "file_extension": ".py",
   "mimetype": "text/x-python",
   "name": "python",
   "nbconvert_exporter": "python",
   "pygments_lexer": "ipython3",
   "version": "3.10.4"
  }
 },
 "nbformat": 4,
 "nbformat_minor": 5
}
