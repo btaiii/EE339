{
 "cells": [
  {
   "cell_type": "code",
   "execution_count": 1,
   "id": "596cc8e0-ef7c-4159-a971-bff3da05ba8b",
   "metadata": {},
   "outputs": [
    {
     "data": {
      "text/plain": [
       "'/home/branch/Dropbox/EE339_SolidStateElectronicDevices_Su2022'"
      ]
     },
     "execution_count": 1,
     "metadata": {},
     "output_type": "execute_result"
    }
   ],
   "source": [
    "pwd"
   ]
  },
  {
   "cell_type": "markdown",
   "id": "f91228e6-f2b1-4da1-9cb2-c594689ea05e",
   "metadata": {
    "tags": []
   },
   "source": [
    "## <span style='color:red'>Enter the fundamental charge</span>\n",
    "Some Markdown text with <span style=\"color:blue\">some *blue* text</span>."
   ]
  },
  {
   "cell_type": "code",
   "execution_count": 2,
   "id": "55d4cc3d-3622-4daf-a207-a0e7c78f394c",
   "metadata": {
    "deletable": false,
    "editable": false,
    "tags": []
   },
   "outputs": [],
   "source": [
    "q=1.6019e-19333"
   ]
  },
  {
   "cell_type": "code",
   "execution_count": 3,
   "id": "0a4fe9d4-e479-4acb-864e-0cb6f6cc5777",
   "metadata": {},
   "outputs": [],
   "source": [
    "q=1.6019e-19"
   ]
  },
  {
   "cell_type": "code",
   "execution_count": 4,
   "id": "f68115d8-5d6e-40b3-b8ba-01e9ca232fc2",
   "metadata": {},
   "outputs": [
    {
     "data": {
      "text/plain": [
       "'1.6019e-19'"
      ]
     },
     "execution_count": 4,
     "metadata": {},
     "output_type": "execute_result"
    }
   ],
   "source": [
    "f'{q:.4e}'"
   ]
  },
  {
   "cell_type": "code",
   "execution_count": 5,
   "id": "a1e563f8-a495-42a1-a246-70347a5b4187",
   "metadata": {},
   "outputs": [
    {
     "data": {
      "text/plain": [
       "1.6019e-19"
      ]
     },
     "execution_count": 5,
     "metadata": {},
     "output_type": "execute_result"
    }
   ],
   "source": [
    "q"
   ]
  },
  {
   "cell_type": "code",
   "execution_count": 6,
   "id": "d609a96a-0cb1-4256-9a02-b89815e6ca73",
   "metadata": {},
   "outputs": [
    {
     "name": "stdout",
     "output_type": "stream",
     "text": [
      "The fundamental charge is 1.601900e-19\n"
     ]
    }
   ],
   "source": [
    "print(f'The fundamental charge is {q:3e}')"
   ]
  },
  {
   "cell_type": "code",
   "execution_count": 7,
   "id": "39f5709b-6a39-417c-82de-08327b2a28a7",
   "metadata": {},
   "outputs": [
    {
     "name": "stdout",
     "output_type": "stream",
     "text": [
      "3\n"
     ]
    }
   ],
   "source": [
    "z=3\n",
    "print(z)"
   ]
  },
  {
   "cell_type": "code",
   "execution_count": 8,
   "id": "28f5c575-fbda-44c6-b2b3-41d55f45108f",
   "metadata": {},
   "outputs": [
    {
     "name": "stdout",
     "output_type": "stream",
     "text": [
      "4\n"
     ]
    }
   ],
   "source": [
    "y=4\n",
    "print(y)"
   ]
  }
 ],
 "metadata": {
  "kernelspec": {
   "display_name": "Python 3 (ipykernel)",
   "language": "python",
   "name": "python3"
  },
  "language_info": {
   "codemirror_mode": {
    "name": "ipython",
    "version": 3
   },
   "file_extension": ".py",
   "mimetype": "text/x-python",
   "name": "python",
   "nbconvert_exporter": "python",
   "pygments_lexer": "ipython3",
   "version": "3.10.4"
  },
  "toc-autonumbering": false,
  "toc-showcode": true,
  "toc-showmarkdowntxt": true,
  "toc-showtags": true
 },
 "nbformat": 4,
 "nbformat_minor": 5
}
