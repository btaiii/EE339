{
 "cells": [
  {
   "cell_type": "code",
   "execution_count": 1,
   "id": "e499a04e-f025-400a-af71-c21c15577625",
   "metadata": {
    "tags": []
   },
   "outputs": [
    {
     "data": {
      "text/html": [
       "<style>\n",
       "h1, h2 { \n",
       "    margin: 0 0 10px 0 !important;\n",
       " }\n",
       "img { \n",
       "     width: 400px; \n",
       " }\n",
       ".right { text-align: right; }\n",
       ".center { text-align: center; }\n",
       ".burnt-orange { color: #cc5500; }\n",
       "</style>\n"
      ],
      "text/plain": [
       "<IPython.core.display.HTML object>"
      ]
     },
     "metadata": {},
     "output_type": "display_data"
    }
   ],
   "source": [
    "%%html\n",
    "<style>\n",
    "h1, h2 { \n",
    "    margin: 0 0 10px 0 !important;\n",
    " }\n",
    "img { \n",
    "     width: 400px; \n",
    " }\n",
    ".right { text-align: right; }\n",
    ".center { text-align: center; }\n",
    ".burnt-orange { color: #cc5500; }\n",
    "</style>"
   ]
  },
  {
   "cell_type": "markdown",
   "id": "f5c5f0b9-960c-449a-9d47-0408a81c1b01",
   "metadata": {
    "tags": []
   },
   "source": [
    "<h1 class='burnt-orange right'>ECE 339 &ndash; Solid-State Electronic Devices</h1>\n",
    "<h2 class='burnt-orange right'>Univ. of Texas at Austin &ndash; Fall 2022</h2>\n",
    "<h2 class='burnt-orange right'>Prof. Sanjay Banerjee</h2>\n",
    "<h2 class='burnt-orange right'>TA &ndash; Branch Archer</h2>\n",
    "\n",
    "<h2 class='center'>Homework #1 &ndash; Warmup Exercise</h2>\n",
    "<p>Welcome to ECE 339, Solid-State Electronic Devices.</p>\n",
    "<p>This semester, rather than traditional homework, I will be implementing a new style of homework.</p>\n",
    "\n",
    "<p>Don't worry &hellip; this is not a programming course.  You will be using the Python programming language, but only the minimal number of features to perform some quantitative analysis, and to make some graphs. I was TA for this course in Spring of 2022, and that experience leads me to believe\n",
    "this approach will help you.</p>\n",
    "\n",
    "<p>This warmup exercise is designed to help you focus on becoming acquainted with the homework environment.  The actual content of the assigment\n",
    "    is set up to be very simple, and ensure that you know how to solve, save, and submit your assignments.</p>\n",
    "    \n",
    "<p>In solid-state device electronics, as in most other areas of physics and engineering, you will be dealing with numbers ranging from very small to very large.  For this purpose, working in scientific notation is highly useful.</p>\n",
    "$$ 1 \\times 10^{15} $$"
   ]
  },
  {
   "cell_type": "markdown",
   "id": "e0bd936e-8093-4bf9-915b-e6daae75cc7d",
   "metadata": {},
   "source": [
    "![title](images/upload_file_icon.jpg)"
   ]
  },
  {
   "cell_type": "code",
   "execution_count": 2,
   "id": "8b838d64-2c15-42fb-bf3e-f614832fd3aa",
   "metadata": {},
   "outputs": [],
   "source": [
    "saveAdvisory='''\n",
    "Save your code <em style='color:red'>now</em>\n",
    "'''"
   ]
  },
  {
   "cell_type": "markdown",
   "id": "f91228e6-f2b1-4da1-9cb2-c594689ea05e",
   "metadata": {
    "tags": []
   },
   "source": [
    "## <span style='color:red'>Enter the fundamental charge</span>\n",
    "Some Markdown text with <span style=\"color:blue\">some *blue* text</span>."
   ]
  },
  {
   "cell_type": "code",
   "execution_count": 3,
   "id": "28f5c575-fbda-44c6-b2b3-41d55f45108f",
   "metadata": {
    "tags": []
   },
   "outputs": [
    {
     "data": {
      "text/markdown": [
       "*some markdown* $\\phi$"
      ],
      "text/plain": [
       "<IPython.core.display.Markdown object>"
      ]
     },
     "metadata": {},
     "output_type": "display_data"
    },
    {
     "data": {
      "text/latex": [
       "$\\phi$"
      ],
      "text/plain": [
       "<IPython.core.display.Latex object>"
      ]
     },
     "metadata": {},
     "output_type": "display_data"
    }
   ],
   "source": [
    "from IPython.display import display, Markdown, Latex\n",
    "display(Markdown('*some markdown* $\\phi$'))\n",
    "# If you particularly want to display maths, this is more direct:\n",
    "display(Latex('$\\phi$'))"
   ]
  },
  {
   "cell_type": "code",
   "execution_count": 4,
   "id": "d1b84103-75f1-4c23-99ca-b5d0a18f2949",
   "metadata": {},
   "outputs": [
    {
     "data": {
      "text/markdown": [
       "\n",
       "Save your code <em style='color:red'>now</em>\n"
      ],
      "text/plain": [
       "<IPython.core.display.Markdown object>"
      ]
     },
     "metadata": {},
     "output_type": "display_data"
    }
   ],
   "source": [
    "display(Markdown(saveAdvisory))\n"
   ]
  },
  {
   "cell_type": "code",
   "execution_count": 10,
   "id": "6720e1ea-9ff2-4966-9283-284ec2228476",
   "metadata": {},
   "outputs": [],
   "source": [
    "from IPython.display import display, Markdown, clear_output\n",
    "# widget packages\n",
    "import ipywidgets as widgets\n",
    "\n",
    "# defining some widgets\n",
    "text = widgets.Text(\n",
    "       value='My Text',\n",
    "       description='Title', )\n",
    "calendar = widgets.DatePicker(\n",
    "           description='Select Date')\n",
    "slider = widgets.FloatSlider(\n",
    "         value=1,\n",
    "         min=0,\n",
    "         max=10.0,\n",
    "         step=0.1,)\n",
    "menu = widgets.Dropdown(\n",
    "       options=['red', 'blue', 'green'],\n",
    "       value='red',\n",
    "       description='Color:')\n",
    "checkbox = widgets.Checkbox(\n",
    "           description='Check to invert',)"
   ]
  },
  {
   "cell_type": "code",
   "execution_count": 11,
   "id": "691ef15a-0eac-4ea6-9ef8-c746d217596f",
   "metadata": {},
   "outputs": [
    {
     "data": {
      "application/vnd.jupyter.widget-view+json": {
       "model_id": "d31f416995bd44bcaa71c83e405ad1f2",
       "version_major": 2,
       "version_minor": 0
      },
      "text/plain": [
       "Dropdown(description='Color:', options=('red', 'blue', 'green'), value='red')"
      ]
     },
     "metadata": {},
     "output_type": "display_data"
    }
   ],
   "source": [
    "menu"
   ]
  },
  {
   "cell_type": "code",
   "execution_count": 13,
   "id": "df8edbeb-1eb5-4f4d-aa9c-bb60dcd27eba",
   "metadata": {},
   "outputs": [
    {
     "data": {
      "text/plain": [
       "'green'"
      ]
     },
     "execution_count": 13,
     "metadata": {},
     "output_type": "execute_result"
    }
   ],
   "source": [
    "menu.value"
   ]
  },
  {
   "cell_type": "code",
   "execution_count": 14,
   "id": "ac0b50a3-886f-4d0f-8b15-9332489cfdc6",
   "metadata": {},
   "outputs": [
    {
     "data": {
      "application/vnd.jupyter.widget-view+json": {
       "model_id": "a8fbfd442ca94adda0707fb9697d6a27",
       "version_major": 2,
       "version_minor": 0
      },
      "text/plain": [
       "FloatSlider(value=1.0, max=10.0)"
      ]
     },
     "metadata": {},
     "output_type": "display_data"
    }
   ],
   "source": [
    "slider"
   ]
  },
  {
   "cell_type": "code",
   "execution_count": 15,
   "id": "4a0a3da1-8073-4726-9fad-9d94045ec385",
   "metadata": {},
   "outputs": [
    {
     "data": {
      "text/plain": [
       "6.7"
      ]
     },
     "execution_count": 15,
     "metadata": {},
     "output_type": "execute_result"
    }
   ],
   "source": [
    "slider.value"
   ]
  },
  {
   "cell_type": "code",
   "execution_count": 16,
   "id": "4d44285c-b6b5-4067-8864-e6d1c736ce6e",
   "metadata": {},
   "outputs": [
    {
     "data": {
      "text/plain": [
       "['builtins', 'builtins', 'ipywidgets', 'types']"
      ]
     },
     "execution_count": 16,
     "metadata": {},
     "output_type": "execute_result"
    }
   ],
   "source": [
    "import types\n",
    "def imports():\n",
    "    for name, val in globals().items():\n",
    "        if isinstance(val, types.ModuleType):\n",
    "            yield val.__name__\n",
    "list(imports())"
   ]
  },
  {
   "cell_type": "code",
   "execution_count": 23,
   "id": "03e57ac4-f3c8-4271-871d-55a4c275eb54",
   "metadata": {},
   "outputs": [
    {
     "name": "stdout",
     "output_type": "stream",
     "text": [
      "ipywidgets==7.7.0\n",
      "pip==22.0.2\n"
     ]
    }
   ],
   "source": [
    "# In[1]:\n",
    "\n",
    "print('\\n'.join(f'{m.__name__}=={m.__version__}' for m in globals().values() if getattr(m, '__version__', None)))"
   ]
  },
  {
   "cell_type": "code",
   "execution_count": 24,
   "id": "2f13bcea-935c-4901-9efe-588f9e736eff",
   "metadata": {},
   "outputs": [
    {
     "ename": "TypeError",
     "evalue": "unsupported operand type(s) for -: 'module' and 'builtin_function_or_method'",
     "output_type": "error",
     "traceback": [
      "\u001b[0;31m---------------------------------------------------------------------------\u001b[0m",
      "\u001b[0;31mTypeError\u001b[0m                                 Traceback (most recent call last)",
      "Input \u001b[0;32mIn [24]\u001b[0m, in \u001b[0;36m<cell line: 1>\u001b[0;34m()\u001b[0m\n\u001b[0;32m----> 1\u001b[0m \u001b[43mpip\u001b[49m\u001b[38;5;241;43m-\u001b[39;49m\u001b[38;5;28;43mcompile\u001b[39;49m\n",
      "\u001b[0;31mTypeError\u001b[0m: unsupported operand type(s) for -: 'module' and 'builtin_function_or_method'"
     ]
    }
   ],
   "source": [
    "pip-compile"
   ]
  },
  {
   "cell_type": "code",
   "execution_count": 25,
   "id": "7e9629ff-d283-4ddd-84ce-7388d5e1b329",
   "metadata": {},
   "outputs": [
    {
     "name": "stdout",
     "output_type": "stream",
     "text": [
      "/bin/bash: line 1: pip-compile: command not found\n"
     ]
    }
   ],
   "source": [
    "!pip-compile"
   ]
  },
  {
   "cell_type": "code",
   "execution_count": null,
   "id": "bd07c004-286d-4e6e-af26-e0fe3aecd991",
   "metadata": {},
   "outputs": [],
   "source": []
  }
 ],
 "metadata": {
  "kernelspec": {
   "display_name": "Python 3 (ipykernel)",
   "language": "python",
   "name": "python3"
  },
  "language_info": {
   "codemirror_mode": {
    "name": "ipython",
    "version": 3
   },
   "file_extension": ".py",
   "mimetype": "text/x-python",
   "name": "python",
   "nbconvert_exporter": "python",
   "pygments_lexer": "ipython3",
   "version": "3.10.4"
  },
  "toc-autonumbering": false,
  "toc-showcode": true,
  "toc-showmarkdowntxt": true,
  "toc-showtags": true
 },
 "nbformat": 4,
 "nbformat_minor": 5
}
