{
 "cells": [
  {
   "cell_type": "code",
   "execution_count": 274,
   "id": "87eeff55-46fe-4486-a895-2985ca2458d9",
   "metadata": {
    "jupyter": {
     "source_hidden": true
    },
    "tags": []
   },
   "outputs": [],
   "source": [
    "import math\n",
    "from IPython.display import display, Markdown, Latex\n",
    "# from IPython.display import display, Markdown, clear_output\n",
    "# widget packages\n",
    "import ipywidgets as widgets\n",
    "\n",
    "saveAdvisory='''\n",
    "Save your code <em style='color:red'>now</em>\n",
    "'''\n",
    "answerHere='''\n",
    "<div class='burnt-orange f18'>&mapstodown; Place your answer in the cell below &mapstodown;</div>\n",
    "'''"
   ]
  },
  {
   "cell_type": "code",
   "execution_count": 275,
   "id": "e499a04e-f025-400a-af71-c21c15577625",
   "metadata": {
    "jupyter": {
     "source_hidden": true
    },
    "tags": []
   },
   "outputs": [
    {
     "data": {
      "text/html": [
       "<style>\n",
       "h1, h2 { \n",
       "    margin: 0 0 10px 0 !important;\n",
       " }\n",
       "img { \n",
       "     width: 400px; \n",
       " }\n",
       ".right { text-align: right; }\n",
       ".center { text-align: center; }\n",
       ".burnt-orange { color: #cc5500; }\n",
       "div.f18 { font-size: 18pt;}\n",
       "div.f18 p { text-align: justify; }\n",
       "hr { width: 80%;   border: 10px solid #ffc680;  border-radius: 5px;}\n",
       "div.f18 code { color: SteelBlue; }\n",
       "</style>\n"
      ],
      "text/plain": [
       "<IPython.core.display.HTML object>"
      ]
     },
     "metadata": {},
     "output_type": "display_data"
    }
   ],
   "source": [
    "%%html\n",
    "<style>\n",
    "h1, h2 { \n",
    "    margin: 0 0 10px 0 !important;\n",
    " }\n",
    "img { \n",
    "     width: 400px; \n",
    " }\n",
    ".right { text-align: right; }\n",
    ".center { text-align: center; }\n",
    ".burnt-orange { color: #cc5500; }\n",
    "div.f18 { font-size: 18pt;}\n",
    "div.f18 p { text-align: justify; }\n",
    "hr { width: 80%;   border: 10px solid #ffc680;  border-radius: 5px;}\n",
    "div.f18 code { color: SteelBlue; }\n",
    "</style>"
   ]
  },
  {
   "cell_type": "markdown",
   "id": "f5c5f0b9-960c-449a-9d47-0408a81c1b01",
   "metadata": {
    "tags": []
   },
   "source": [
    "<h1 class='burnt-orange right'>ECE 339 &ndash; Solid-State Electronic Devices</h1>\n",
    "<h2 class='burnt-orange right'>Univ. of Texas at Austin &ndash; Fall 2022</h2>\n",
    "<h2 class='burnt-orange right'>Prof. Sanjay Banerjee</h2>\n",
    "<h2 class='burnt-orange right'>TA &ndash; Branch Archer</h2>\n",
    "\n",
    "<h2 class='center'>Homework #1 &ndash; Warmup Exercise</h2>\n",
    "<div class='f18'>\n",
    "<p>Welcome to ECE 339, Solid-State Electronic Devices.</p>\n",
    "<p id='j'>This semester, rather than traditional homework, I will be trying out a new style of homework. I hope this will be a great learning experience for you, \n",
    "    but if students find it unhelpful or too cumbersome, we can revert back to normal handwritten homework assignments.  I would like to try this new\n",
    "approach out for at least this warmup assignment and Homework #1.</p>\n",
    "\n",
    "<p>You will be using the Python programming language, but only the minimal number of features to perform some quantitative analysis, and to make some graphs. \n",
    "    Don't worry &hellip; this is not a programming course. We will walk you through the minimal amount of Python skills you will need.\n",
    "    I was TA for this course in Spring of 2022, and that experience leads me to believe\n",
    "this approach will help you.</p>\n",
    "\n",
    "<p>These exercises are part of a so-called <em>Jupyter Notebook</em>, which is a software package for relaying scientific information in an interactive\n",
    "    format on the Web. Python code can be embedded in these notebooks, and you will be entering some Python code to complete the exercises. Wherever\n",
    "    you see the advisory \"Place your answer in the cell below\", you are expected to enter information in the following box.</p>\n",
    "\n",
    "<p>This warmup exercise is designed to help you focus on becoming acquainted with the homework environment.  The actual content of the assigment\n",
    "    is set up to be very simple, and ensure that you know how to solve, save, and submit your assignments.</p>\n",
    "    \n",
    "<p><strong>Extra credit opportunity: </strong>Each week I would like a student to volunteer to submit their assignment before the weekend.</p>\n",
    "</div>\n",
    "<div class='right f18'>&ndash; Branch Archer, TA</div>\n",
    "<hr>\n",
    "<div class='f18'><strong>Problem 1. Scientific Notation</strong>\n",
    "    <p>In solid-state device electronics, as in most other areas of physics and engineering, you will be dealing with numbers ranging from very small to very large.  \n",
    "        Reading numbers with many digits is difficult and inhibits our understanding.  As you know, scientific notation was developed to circumvent\n",
    "        this difficulty.  The following number represents a 1 followed by 15 zeroes (i.e., one quadrillion).</p>\n",
    "$$ 1 \\times 10^{15} $$\n",
    "    <p>where 1 is the mantissa and 15 is the exponent. In Python, scientific notation is easy to use. \n",
    "        As in many (most?) other programming languages, this value of 1 quadrillion is represented as <code>1e15</code>. To set the variable <code>x</code>\n",
    "        to this value in Python, we would simply write <pre><code>x = 1e15</code></pre>\n",
    "    </p>\n",
    "    <p>As you probably know the speed of light is approximately $3\\times 10^8$ m/s (meters per second). In the following box, change the Python code to set the variable <code>c_m_s</code> to this value,\n",
    "    using Python-style scientific notation. Note that we are including the units as part of the variable name, because confusion over units is a frequent source of\n",
    "    errors.</p>\n",
    "</div>"
   ]
  },
  {
   "cell_type": "code",
   "execution_count": 276,
   "id": "aa0a07ee-4147-44f5-89ec-6720a2710357",
   "metadata": {
    "tags": []
   },
   "outputs": [
    {
     "data": {
      "text/markdown": [
       "\n",
       "<div class='burnt-orange f18'>&mapstodown; Place your answer in the cell below &mapstodown;</div>\n"
      ],
      "text/plain": [
       "<IPython.core.display.Markdown object>"
      ]
     },
     "metadata": {},
     "output_type": "display_data"
    }
   ],
   "source": [
    "display(Markdown(answerHere))"
   ]
  },
  {
   "cell_type": "code",
   "execution_count": 277,
   "id": "acd86456-e75b-41f1-836f-61f528e000b4",
   "metadata": {},
   "outputs": [],
   "source": [
    "c_m_s = 3e8"
   ]
  },
  {
   "cell_type": "code",
   "execution_count": 278,
   "id": "34c16684-c5c7-4430-8c92-ecc7270dd01d",
   "metadata": {
    "tags": []
   },
   "outputs": [
    {
     "data": {
      "text/markdown": [
       "Wow &hellip; the speed of light is 3.0e+08 m/s, or $3.0 \\times 10^8$ m/s"
      ],
      "text/plain": [
       "<IPython.core.display.Markdown object>"
      ]
     },
     "metadata": {},
     "output_type": "display_data"
    }
   ],
   "source": [
    "exp = int(math.log10(c_m_s))\n",
    "mantissa = c_m_s / 10**exp\n",
    "speed_of_light = f'Wow &hellip; the speed of light is {c_m_s:.1e} m/s, or ${mantissa:.1f} \\\\times 10^{exp}$ m/s'\n",
    "\n",
    "display(Markdown(speed_of_light))"
   ]
  },
  {
   "cell_type": "markdown",
   "id": "e0bd936e-8093-4bf9-915b-e6daae75cc7d",
   "metadata": {},
   "source": [
    "![title](images/upload_file_icon.jpg)"
   ]
  },
  {
   "cell_type": "code",
   "execution_count": 279,
   "id": "8b838d64-2c15-42fb-bf3e-f614832fd3aa",
   "metadata": {},
   "outputs": [
    {
     "data": {
      "text/markdown": [
       "\n",
       "Save your code <em style='color:red'>now</em>\n"
      ],
      "text/plain": [
       "<IPython.core.display.Markdown object>"
      ]
     },
     "metadata": {},
     "output_type": "display_data"
    }
   ],
   "source": [
    "display(Markdown(saveAdvisory))"
   ]
  },
  {
   "cell_type": "markdown",
   "id": "f91228e6-f2b1-4da1-9cb2-c594689ea05e",
   "metadata": {
    "tags": []
   },
   "source": [
    "## <span style='color:red'>Enter the fundamental charge</span>\n",
    "Some Markdown text with <span style=\"color:blue\">some *blue* text</span>."
   ]
  },
  {
   "cell_type": "code",
   "execution_count": 280,
   "id": "28f5c575-fbda-44c6-b2b3-41d55f45108f",
   "metadata": {
    "tags": []
   },
   "outputs": [
    {
     "data": {
      "text/markdown": [
       "*some markdown* $\\phi$"
      ],
      "text/plain": [
       "<IPython.core.display.Markdown object>"
      ]
     },
     "metadata": {},
     "output_type": "display_data"
    },
    {
     "data": {
      "text/latex": [
       "$\\phi$"
      ],
      "text/plain": [
       "<IPython.core.display.Latex object>"
      ]
     },
     "metadata": {},
     "output_type": "display_data"
    }
   ],
   "source": [
    "display(Markdown('*some markdown* $\\phi$'))\n",
    "# If you particularly want to display maths, this is more direct:\n",
    "display(Latex('$\\phi$'))"
   ]
  },
  {
   "cell_type": "code",
   "execution_count": 281,
   "id": "d1b84103-75f1-4c23-99ca-b5d0a18f2949",
   "metadata": {},
   "outputs": [
    {
     "data": {
      "text/markdown": [
       "\n",
       "Save your code <em style='color:red'>now</em>\n"
      ],
      "text/plain": [
       "<IPython.core.display.Markdown object>"
      ]
     },
     "metadata": {},
     "output_type": "display_data"
    }
   ],
   "source": [
    "display(Markdown(saveAdvisory))\n"
   ]
  },
  {
   "cell_type": "code",
   "execution_count": 282,
   "id": "6720e1ea-9ff2-4966-9283-284ec2228476",
   "metadata": {},
   "outputs": [],
   "source": [
    "# defining some widgets\n",
    "text = widgets.Text(\n",
    "       value='My Text',\n",
    "       description='Title', )\n",
    "calendar = widgets.DatePicker(\n",
    "           description='Select Date')\n",
    "slider = widgets.FloatSlider(\n",
    "         value=1,\n",
    "         min=0,\n",
    "         max=10.0,\n",
    "         step=0.1,)\n",
    "menu = widgets.Dropdown(\n",
    "       options=['-', 'red', 'blue', 'green'],\n",
    "       description='Color:')\n",
    "checkbox = widgets.Checkbox(\n",
    "           description='Check to invert',)"
   ]
  },
  {
   "cell_type": "code",
   "execution_count": 283,
   "id": "691ef15a-0eac-4ea6-9ef8-c746d217596f",
   "metadata": {},
   "outputs": [
    {
     "data": {
      "application/vnd.jupyter.widget-view+json": {
       "model_id": "d24b76e31d164bc68a3081ce03c68548",
       "version_major": 2,
       "version_minor": 0
      },
      "text/plain": [
       "Dropdown(description='Color:', options=('-', 'red', 'blue', 'green'), value='-')"
      ]
     },
     "metadata": {},
     "output_type": "display_data"
    }
   ],
   "source": [
    "menu"
   ]
  },
  {
   "cell_type": "code",
   "execution_count": 284,
   "id": "df8edbeb-1eb5-4f4d-aa9c-bb60dcd27eba",
   "metadata": {},
   "outputs": [
    {
     "data": {
      "text/plain": [
       "'-'"
      ]
     },
     "execution_count": 284,
     "metadata": {},
     "output_type": "execute_result"
    }
   ],
   "source": [
    "menu.value"
   ]
  },
  {
   "cell_type": "code",
   "execution_count": 285,
   "id": "ac0b50a3-886f-4d0f-8b15-9332489cfdc6",
   "metadata": {},
   "outputs": [
    {
     "data": {
      "application/vnd.jupyter.widget-view+json": {
       "model_id": "5e65fe5d284d4657b4cedd415d0443db",
       "version_major": 2,
       "version_minor": 0
      },
      "text/plain": [
       "FloatSlider(value=1.0, max=10.0)"
      ]
     },
     "metadata": {},
     "output_type": "display_data"
    }
   ],
   "source": [
    "slider"
   ]
  },
  {
   "cell_type": "code",
   "execution_count": 286,
   "id": "4a0a3da1-8073-4726-9fad-9d94045ec385",
   "metadata": {},
   "outputs": [
    {
     "data": {
      "text/plain": [
       "1.0"
      ]
     },
     "execution_count": 286,
     "metadata": {},
     "output_type": "execute_result"
    }
   ],
   "source": [
    "slider.value"
   ]
  },
  {
   "cell_type": "code",
   "execution_count": 287,
   "id": "03e57ac4-f3c8-4271-871d-55a4c275eb54",
   "metadata": {
    "jupyter": {
     "source_hidden": true
    },
    "tags": []
   },
   "outputs": [
    {
     "name": "stdout",
     "output_type": "stream",
     "text": [
      "ipywidgets==7.7.0\n",
      "pip==22.0.2\n"
     ]
    }
   ],
   "source": [
    "# In[1]:\n",
    "\n",
    "print('\\n'.join(f'{m.__name__}=={m.__version__}' for m in globals().values() if getattr(m, '__version__', None)))"
   ]
  }
 ],
 "metadata": {
  "kernelspec": {
   "display_name": "Python 3 (ipykernel)",
   "language": "python",
   "name": "python3"
  },
  "language_info": {
   "codemirror_mode": {
    "name": "ipython",
    "version": 3
   },
   "file_extension": ".py",
   "mimetype": "text/x-python",
   "name": "python",
   "nbconvert_exporter": "python",
   "pygments_lexer": "ipython3",
   "version": "3.10.4"
  },
  "toc-autonumbering": false,
  "toc-showcode": true,
  "toc-showmarkdowntxt": true,
  "toc-showtags": true
 },
 "nbformat": 4,
 "nbformat_minor": 5
}
