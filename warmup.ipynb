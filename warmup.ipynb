{
 "cells": [
  {
   "cell_type": "markdown",
   "id": "60eb321c-800c-471b-8a32-51d5e4f7242e",
   "metadata": {},
   "source": [
    "<h1>Invoke menu command \"Run &rarr; Run All Cells\" to format the assignment before starting</h1>"
   ]
  },
  {
   "cell_type": "code",
   "execution_count": 109,
   "id": "87eeff55-46fe-4486-a895-2985ca2458d9",
   "metadata": {
    "tags": []
   },
   "outputs": [],
   "source": [
    "import math\n",
    "from IPython.display import display, Markdown, Latex, Javascript\n",
    "# from IPython.display import display, Markdown, clear_output\n",
    "# widget packages\n",
    "import ipywidgets as widgets\n",
    "totalPoints = 0\n",
    "problemNumber = 1\n",
    "\n",
    "def displayProblemHeading(name, points):\n",
    "    global totalPoints, problemNumber\n",
    "    heading = f\"<div class='separator'><hr></div><div class='f18'><strong>Problem {problemNumber}: {name}</strong> ({points} points)</div>\"\n",
    "    display(Markdown(heading))\n",
    "    totalPoints += points\n",
    "    problemNumber += 1\n",
    "    \n",
    "def displayTotalPoints():\n",
    "    markdown = f\"<div class='f18'><strong>Total points: {totalPoints}</strong></div>\"\n",
    "    display(Markdown(markdown))\n",
    "    \n",
    "\n",
    "def answerAdvisory():\n",
    "    answerHere = '''<div class='burnt-orange f18 center answer'>&mapstodown; Enter your answer(s) in the cell below &mapstodown;</div>\n",
    "'''\n",
    "    display(Markdown(answerHere))\n",
    "\n",
    "saveAdvisory='''\n",
    "<div class='f18 green'><em>Now is a good time to save your code to your computer's local storage.</em>\n",
    "'''\n",
    "jsSave = Javascript(\"document.body.dispatchEvent(new KeyboardEvent('keydown', {key:'s', keyCode: 83, ctrlKey: true}))\")\n"
   ]
  },
  {
   "cell_type": "code",
   "execution_count": 110,
   "id": "e499a04e-f025-400a-af71-c21c15577625",
   "metadata": {
    "tags": []
   },
   "outputs": [
    {
     "data": {
      "text/html": [
       "<style>\n",
       "h1, h2 { margin: 0 0 10px 0 !important;}\n",
       "img { width: 400px; }\n",
       "img#PeriodicTable { width: 100%; border: 10px solid lightgray; border-radius: 5px;}\n",
       "div.f18 { font-size: 18pt;}\n",
       "div.f18 p { text-align: justify; }\n",
       "div.answer { border: 8px solid #ffc680; border-radius: 8px; }\n",
       "hr { width: 90%; border: 10px solid #ffc680; border-radius: 10px;}        \n",
       "div.f18 code { color: SteelBlue; }\n",
       "pre.code { color: SteelBlue; }\n",
       "div.topic { color: crimson;  font-style: italic; }\n",
       "div.separator { padding: 20px 0; }\n",
       "# label.widget-label { width: 300px; }\n",
       "label.widget-label { font-size: 20pt; width: 300px !important; }\n",
       "div.widget-dropdown { width: 400px; margin: 10px; }\n",
       "div.jupyter-widgets select {font-size: 18pt; height: 25pt; line-height: 18pt; text-align-last: right; }\n",
       "    \n",
       ".right { text-align: right; }\n",
       ".center { text-align: center; }\n",
       ".burnt-orange { color: #cc5500; }\n",
       ".red { color: crimson; }\n",
       ".green { color: ForestGreen; }\n",
       "</style>\n"
      ],
      "text/plain": [
       "<IPython.core.display.HTML object>"
      ]
     },
     "metadata": {},
     "output_type": "display_data"
    }
   ],
   "source": [
    "%%html\n",
    "<style>\n",
    "h1, h2 { margin: 0 0 10px 0 !important;}\n",
    "img { width: 400px; }\n",
    "img#PeriodicTable { width: 100%; border: 10px solid lightgray; border-radius: 5px;}\n",
    "div.f18 { font-size: 18pt;}\n",
    "div.f18 p { text-align: justify; }\n",
    "div.answer { border: 8px solid #ffc680; border-radius: 8px; }\n",
    "hr { width: 90%; border: 10px solid #ffc680; border-radius: 10px;}        \n",
    "div.f18 code { color: SteelBlue; }\n",
    "pre.code { color: SteelBlue; }\n",
    "div.topic { color: crimson;  font-style: italic; }\n",
    "div.separator { padding: 20px 0; }\n",
    "# label.widget-label { width: 300px; }\n",
    "label.widget-label { font-size: 20pt; width: 300px !important; }\n",
    "div.widget-dropdown { width: 400px; margin: 10px; }\n",
    "div.jupyter-widgets select {font-size: 18pt; height: 25pt; line-height: 18pt; text-align-last: right; }\n",
    "    \n",
    ".right { text-align: right; }\n",
    ".center { text-align: center; }\n",
    ".burnt-orange { color: #cc5500; }\n",
    ".red { color: crimson; }\n",
    ".green { color: ForestGreen; }\n",
    "</style>"
   ]
  },
  {
   "cell_type": "markdown",
   "id": "f5c5f0b9-960c-449a-9d47-0408a81c1b01",
   "metadata": {
    "tags": []
   },
   "source": [
    "<h1 class='burnt-orange right'>ECE 339 &ndash; Solid-State Electronic Devices</h1>\n",
    "<h2 class='burnt-orange right'>Univ. of Texas at Austin &ndash; Fall 2022</h2>\n",
    "<h2 class='burnt-orange right'>Prof. Sanjay Banerjee</h2>\n",
    "<h2 class='burnt-orange right'>TA &ndash; Branch Archer</h2>\n",
    "\n",
    "<h2 class='center'><strong>Homework #1 &ndash; Warmup Exercise</strong></h2>\n",
    "<div class='f18'>\n",
    "<p>Welcome to ECE 339, Solid-State Electronic Devices!</p>\n",
    "<p id='j'>This semester, rather than traditional homework, I will be trying out a new style of homework. I hope this will be a great learning experience for you, \n",
    "    but if students find it unhelpful or too cumbersome, we can revert back to normal handwritten homework assignments.  I would like to try this new\n",
    "approach out for at least this warmup assignment and Homework #1.</p>\n",
    "\n",
    "<p>You will be using the Python programming language, but only the minimal number of features to perform some quantitative analysis, and to make some graphs. \n",
    "    Don't worry &hellip; this is not a programming course. We will walk you through the minimal amount of Python skills you will need.\n",
    "    I was TA for this course in Spring of 2022, and that experience leads me to believe\n",
    "this approach will help you.</p>\n",
    "\n",
    "<p>These exercises are part of a so-called <em>Jupyter Notebook</em>, which is a software package for relaying scientific information in an interactive\n",
    "    format on the Web. Python code can be embedded in these notebooks, and you will be entering some Python code to complete the exercises. Wherever\n",
    "    you see the advisory \"Place your answer in the cell below\", you are expected to enter information in the following box.</p>\n",
    "\n",
    "<p>This warmup exercise is designed to help you focus on becoming acquainted with the homework environment.  The actual content of the assigment\n",
    "    is set up to be very simple, and ensure that you know how to solve, save, and submit your assignments.</p>\n",
    "    \n",
    "<p><strong>Extra credit opportunity: </strong>Each week I would like a student to volunteer to submit their assignment before the weekend.</p>\n",
    "</div>\n",
    "<div class='right f18'>&ndash; Branch Archer, TA</div>"
   ]
  },
  {
   "cell_type": "code",
   "execution_count": 111,
   "id": "a1cb3d70-6de0-4e8e-8c8e-5bf63e31ec84",
   "metadata": {
    "tags": []
   },
   "outputs": [
    {
     "data": {
      "text/markdown": [
       "<div class='separator'><hr></div><div class='f18'><strong>Problem 1: Scientific Notation</strong> (2 points)</div>"
      ],
      "text/plain": [
       "<IPython.core.display.Markdown object>"
      ]
     },
     "metadata": {},
     "output_type": "display_data"
    }
   ],
   "source": [
    "displayProblemHeading('Scientific Notation',2)"
   ]
  },
  {
   "cell_type": "markdown",
   "id": "cf369ab8-9d28-49a3-a01a-04d3ac7086f1",
   "metadata": {},
   "source": [
    "<div class='f18'>\n",
    "    <p>In solid-state device electronics, as in most other areas of physics and engineering, you will be dealing with numbers ranging from very small to very large.  \n",
    "        Reading numbers with many digits is difficult and inhibits our understanding.  As you know, scientific notation was developed to circumvent\n",
    "        this difficulty.  The following number represents a 1 followed by 15 zeroes (i.e., one quadrillion):</p>\n",
    "$$ 1 \\times 10^{15} $$\n",
    "    <p>where 1 is the mantissa and 15 is the exponent. In Python, scientific notation is easy to implement. \n",
    "        As in many (most?) other programming languages, this value of 1 quadrillion is represented as <code>1e15</code>. To set the variable <code>x</code>\n",
    "        to this value in Python, we would simply write <pre class='code'>x = 1e15\n",
    "        </pre>\n",
    "        where the number before 'e' is the mantissa, and the number\n",
    "        after 'e' is the exponent.\n",
    "    </p>\n",
    "    <p>As you probably, know the speed of light $c$ is approximately $3\\times 10^8$ m/s (meters per second). In the following box, change the Python code to set the variable <code>c_m_s</code> to this value,\n",
    "    using Python-style scientific notation. Note that we are including the units as part of the variable name, because confusion over units is a frequent source of\n",
    "    errors.</p>\n",
    "    <p>After you update the value in this cell, use the JupyterLab menu command \"Run &rarr; Run Selected Cell and All Below\" so that your answer\n",
    "    will be evaluated in the next cell</p>\n",
    "</div>"
   ]
  },
  {
   "cell_type": "code",
   "execution_count": 112,
   "id": "aa0a07ee-4147-44f5-89ec-6720a2710357",
   "metadata": {
    "jupyter": {
     "source_hidden": true
    },
    "tags": []
   },
   "outputs": [
    {
     "data": {
      "text/markdown": [
       "<div class='burnt-orange f18 center answer'>&mapstodown; Enter your answer(s) in the cell below &mapstodown;</div>\n"
      ],
      "text/plain": [
       "<IPython.core.display.Markdown object>"
      ]
     },
     "metadata": {},
     "output_type": "display_data"
    }
   ],
   "source": [
    "answerAdvisory()"
   ]
  },
  {
   "cell_type": "code",
   "execution_count": 113,
   "id": "acd86456-e75b-41f1-836f-61f528e000b4",
   "metadata": {},
   "outputs": [],
   "source": [
    "c_m_s = 0"
   ]
  },
  {
   "cell_type": "code",
   "execution_count": 114,
   "id": "34c16684-c5c7-4430-8c92-ecc7270dd01d",
   "metadata": {
    "tags": []
   },
   "outputs": [
    {
     "data": {
      "text/markdown": [
       "Hmmm &hellip; the speed of light is 0.00 m/s.  That's not too fast."
      ],
      "text/plain": [
       "<IPython.core.display.Markdown object>"
      ]
     },
     "execution_count": 114,
     "metadata": {},
     "output_type": "execute_result"
    }
   ],
   "source": [
    "if c_m_s > 2.9e8:\n",
    "    exp = int(math.log10(c_m_s))\n",
    "    mantissa = c_m_s / 10**exp\n",
    "    speed_of_light = f\"Wow &hellip; the speed of light is {c_m_s:.1e} m/s, or ${mantissa:.1f} \\\\times 10^{exp}$ m/s.  That's really fast!\"\n",
    "else:\n",
    "    speed_of_light = f\"Hmmm &hellip; the speed of light is {c_m_s:.2f} m/s.  That's not too fast.\"\n",
    "\n",
    "Markdown(speed_of_light)"
   ]
  },
  {
   "cell_type": "markdown",
   "id": "1e482800-1b0d-4462-a996-efc3e6e29756",
   "metadata": {},
   "source": [
    "<div class='f18'>\n",
    "    <div class='topic'>A little housekeeping &hellip;</div>\n",
    "    <p>This JupyterLab is hosted on the free site Mybinder.org. As a free site, storage is not for an unlimited\n",
    "        time period. In fact, the site only \"guarantees\" availability of your notebook for 12 hours.\n",
    "    </p>\n",
    "</div>"
   ]
  },
  {
   "cell_type": "markdown",
   "id": "e0bd936e-8093-4bf9-915b-e6daae75cc7d",
   "metadata": {},
   "source": [
    "![title](images/upload_file_icon.jpg)"
   ]
  },
  {
   "cell_type": "code",
   "execution_count": 115,
   "id": "8b838d64-2c15-42fb-bf3e-f614832fd3aa",
   "metadata": {
    "tags": []
   },
   "outputs": [
    {
     "data": {
      "text/markdown": [
       "\n",
       "<div class='f18 green'><em>Now is a good time to save your code to your computer's local storage.</em>\n"
      ],
      "text/plain": [
       "<IPython.core.display.Markdown object>"
      ]
     },
     "metadata": {},
     "output_type": "display_data"
    }
   ],
   "source": [
    "display(Markdown(saveAdvisory))"
   ]
  },
  {
   "cell_type": "code",
   "execution_count": 116,
   "id": "bf677a43-4532-4a0a-a427-66668ba33910",
   "metadata": {
    "tags": []
   },
   "outputs": [
    {
     "data": {
      "text/markdown": [
       "<div class='separator'><hr></div><div class='f18'><strong>Problem 2: Physical Constants</strong> (18 points)</div>"
      ],
      "text/plain": [
       "<IPython.core.display.Markdown object>"
      ]
     },
     "metadata": {},
     "output_type": "display_data"
    }
   ],
   "source": [
    "displayProblemHeading('Physical Constants', 18)"
   ]
  },
  {
   "cell_type": "markdown",
   "id": "346da514-ab44-48e8-8656-26e90b8b83a7",
   "metadata": {},
   "source": [
    "<div class='f18'><p>For this course, there are a few very important physical constants that it will be helpful for you to know from memory, \n",
    "    or at least know their order of magnitude.</p>\n",
    "    <div class='topic'>Fundamental charge</div>\n",
    "    <p>As you know, the charge carrier for current in electronic devices is the electron.  All electrons have identical charge, whose magnitude is known as the\n",
    "        <em>fundamental charge</em>.  A proton carries one positive unit of fundamental charge. The fundamental charge is most frequently\n",
    "        represented with the variable $q$, but sometimes as $e$. The unit of charge is Coulombs (abbreviated C). In keeping with our approach of naming\n",
    "        our variables with a unit reminder, we will call the fundamental charge <code>q_c</code> in out Python code. Look up the value\n",
    "        for the fundamental charge (in C), and set the value of <code>q_c</code> in the cell below.\n",
    "    </p>\n",
    "</div>"
   ]
  },
  {
   "cell_type": "code",
   "execution_count": 117,
   "id": "646bca07-300f-4c25-87aa-087bac8b911c",
   "metadata": {
    "tags": []
   },
   "outputs": [
    {
     "data": {
      "text/markdown": [
       "<div class='burnt-orange f18 center answer'>&mapstodown; Enter your answer(s) in the cell below &mapstodown;</div>\n"
      ],
      "text/plain": [
       "<IPython.core.display.Markdown object>"
      ]
     },
     "metadata": {},
     "output_type": "display_data"
    }
   ],
   "source": [
    "answerAdvisory()"
   ]
  },
  {
   "cell_type": "code",
   "execution_count": 118,
   "id": "b6e4d32d-4f12-4f2c-b612-8ba943c9f7ae",
   "metadata": {},
   "outputs": [],
   "source": [
    "q_c = 0"
   ]
  },
  {
   "cell_type": "markdown",
   "id": "139fac31-7a2a-4bf3-8ce0-bcb1d3619d27",
   "metadata": {
    "tags": []
   },
   "source": [
    "<div class='f18'>\n",
    "    <div class='topic'>Vacuum permittivity</div>\n",
    "    <p>Another important constant is the vacuum permitivitty, or permittivity of free space, most often represented as $\\epsilon_0$\n",
    "    Its units are capacitance per unit distance.  Look up the vacuum permittivity and set variable \n",
    "    <code>epsilon_F_cm</code> to its value in Farads per centimeter (F/cm), with at least 3 digits of numerical precsions.  \n",
    "    Also set variable <code>epsilon_F_m</code> to its value in Farads per meter (F/m).\n",
    "    </p>\n",
    "</div>"
   ]
  },
  {
   "cell_type": "code",
   "execution_count": 119,
   "id": "6ddbe6a6-4fd9-4c14-a92a-a0a8dcf5eff0",
   "metadata": {
    "tags": []
   },
   "outputs": [
    {
     "data": {
      "text/markdown": [
       "<div class='burnt-orange f18 center answer'>&mapstodown; Enter your answer(s) in the cell below &mapstodown;</div>\n"
      ],
      "text/plain": [
       "<IPython.core.display.Markdown object>"
      ]
     },
     "metadata": {},
     "output_type": "display_data"
    }
   ],
   "source": [
    "answerAdvisory()"
   ]
  },
  {
   "cell_type": "code",
   "execution_count": 120,
   "id": "08811ea2-761e-4032-9756-e2941ff00897",
   "metadata": {},
   "outputs": [],
   "source": [
    "epsilon_F_cm = 0\n",
    "epsilon_F_m = 0"
   ]
  },
  {
   "cell_type": "markdown",
   "id": "dc545619-5a73-431c-a0f0-fa3e7c8a0921",
   "metadata": {},
   "source": [
    "<div class='f18'>\n",
    "<p>\n",
    "From your electricity and magnetism course, you should know that the presence of a dielectric material modifies the vacuum permittivity by a multiplicative factor called the <em>relative permittivity</em>, often denoted by $\\epsilon_r$. In solid-state electronics, a frequently used insulator\n",
    "    is the oxide of silicon, SiO<sub>2</sub>, or silicon dioxide.  We also need to know how charge behaves inside silicon (Si), for which we need\n",
    "    to know the relative permittivity of silicon.\n",
    "</p>\n",
    "    <p>Look up the relative permittivities of Si and SiO<sub>2</sub>.  \n",
    "        Then set the variable <code>epsilon_r_si</code> to the relative permittivity of silicon, and set the value of <code>epsilon_r_sio2</code>\n",
    "to the relative permittivity of SiO<sub>2</sub> in the cell below.  Note that the relative permittivity is dimensionless.\n",
    "Also note that a couple of comments are included in the Python code to promote clarity for the reader (which is you!).\n",
    "The pound sign '#' (or hash sign) is used to begin a comment in Python.\n",
    "</p>\n",
    "</div>"
   ]
  },
  {
   "cell_type": "code",
   "execution_count": 121,
   "id": "b5258c0f-8d12-457d-b0da-c8a9ed2204a5",
   "metadata": {
    "tags": []
   },
   "outputs": [
    {
     "data": {
      "text/markdown": [
       "<div class='burnt-orange f18 center answer'>&mapstodown; Enter your answer(s) in the cell below &mapstodown;</div>\n"
      ],
      "text/plain": [
       "<IPython.core.display.Markdown object>"
      ]
     },
     "metadata": {},
     "output_type": "display_data"
    }
   ],
   "source": [
    "answerAdvisory()"
   ]
  },
  {
   "cell_type": "code",
   "execution_count": 122,
   "id": "4f793a6c-aa66-4889-81f9-663c05929949",
   "metadata": {},
   "outputs": [],
   "source": [
    "# relative permittivity of silicon\n",
    "epsilon_r_si = 0\n",
    "# relative permittivity of silicon dioxide\n",
    "epsilon_r_sio2 = 0"
   ]
  },
  {
   "cell_type": "markdown",
   "id": "f352e51d-8787-4218-8d56-42beb7e82705",
   "metadata": {},
   "source": [
    "<div class='f18'>\n",
    "    <div class='topic'>Material permittivity</div>\n",
    "<p>\n",
    "    Now we will perform our first simple computation. You probably know that Python, like most programming languages, uses an asterisk ('*') for multiplication. Thus, if I want to set a variable <code>x</code> to the product if <code>y</code> and <code>z</code>, I would write\n",
    "    <pre class='code'>x = y * z\n",
    "    </pre>\n",
    "    The permittivity of a material is its relative permittivity multiplied by the vacuum permittivity. \n",
    "    Using the variables we have defined above, compute the permittivities of silicon and silicon dioxide.  The Python <code>print</code>\n",
    "    method will be used to display your results.  \n",
    "    We print each variable in exponential notation with 3 digits of precision by using <code>.3e</code> as the <em>format-specifier</em>.\n",
    "</p>\n",
    "</div>"
   ]
  },
  {
   "cell_type": "code",
   "execution_count": 123,
   "id": "cc0a2638-6e60-4f22-820a-e3d5e044b65a",
   "metadata": {
    "tags": []
   },
   "outputs": [
    {
     "data": {
      "text/markdown": [
       "<div class='burnt-orange f18 center answer'>&mapstodown; Enter your answer(s) in the cell below &mapstodown;</div>\n"
      ],
      "text/plain": [
       "<IPython.core.display.Markdown object>"
      ]
     },
     "metadata": {},
     "output_type": "display_data"
    }
   ],
   "source": [
    "answerAdvisory()"
   ]
  },
  {
   "cell_type": "code",
   "execution_count": 124,
   "id": "c31584db-6c59-4492-b381-782b6411eb6a",
   "metadata": {},
   "outputs": [
    {
     "name": "stdout",
     "output_type": "stream",
     "text": [
      "The permittivity of Si is 0.000e+00\n",
      "The permittivity of SiO2 is 0.000e+00\n",
      "Now we're getting somewhere!\n"
     ]
    }
   ],
   "source": [
    "# permittivity of silicon\n",
    "epsilon_r_si = 0\n",
    "# permittivity of silicon dioxide\n",
    "epsilon_r_sio2 = 0\n",
    "print(f'The permittivity of Si is {epsilon_r_si:.3e}')\n",
    "print(f'The permittivity of SiO2 is {epsilon_r_sio2:.3e}')\n",
    "print(\"Now we're getting somewhere!\")"
   ]
  },
  {
   "cell_type": "markdown",
   "id": "848651bd-9ce3-4ee2-9968-753ef0018763",
   "metadata": {},
   "source": [
    "<div class='f18'>\n",
    "    <div class='topic'>Thermal energy</div>\n",
    "<p>\n",
    "    Thermal energy at room temperature.\n",
    "</p>\n",
    "</div>"
   ]
  },
  {
   "cell_type": "code",
   "execution_count": 125,
   "id": "a35c47b6-e7ba-4a0b-9ddd-427863463a23",
   "metadata": {
    "tags": []
   },
   "outputs": [
    {
     "data": {
      "text/markdown": [
       "<div class='burnt-orange f18 center answer'>&mapstodown; Enter your answer(s) in the cell below &mapstodown;</div>\n"
      ],
      "text/plain": [
       "<IPython.core.display.Markdown object>"
      ]
     },
     "metadata": {},
     "output_type": "display_data"
    }
   ],
   "source": [
    "answerAdvisory()"
   ]
  },
  {
   "cell_type": "code",
   "execution_count": 126,
   "id": "65f9c7d0-083b-43eb-b2e2-4f8745ce21de",
   "metadata": {
    "tags": []
   },
   "outputs": [
    {
     "data": {
      "text/markdown": [
       "\n",
       "<div class='f18 green'><em>Now is a good time to save your code to your computer's local storage.</em>\n"
      ],
      "text/plain": [
       "<IPython.core.display.Markdown object>"
      ]
     },
     "metadata": {},
     "output_type": "display_data"
    }
   ],
   "source": [
    "display(Markdown(saveAdvisory))"
   ]
  },
  {
   "cell_type": "code",
   "execution_count": 127,
   "id": "28f5c575-fbda-44c6-b2b3-41d55f45108f",
   "metadata": {
    "tags": []
   },
   "outputs": [
    {
     "data": {
      "text/markdown": [
       "*some markdown* $\\phi$"
      ],
      "text/plain": [
       "<IPython.core.display.Markdown object>"
      ]
     },
     "metadata": {},
     "output_type": "display_data"
    },
    {
     "data": {
      "text/latex": [
       "$\\phi$"
      ],
      "text/plain": [
       "<IPython.core.display.Latex object>"
      ]
     },
     "metadata": {},
     "output_type": "display_data"
    }
   ],
   "source": [
    "display(Markdown('*some markdown* $\\phi$'))\n",
    "# If you particularly want to display maths, this is more direct:\n",
    "display(Latex('$\\phi$'))"
   ]
  },
  {
   "cell_type": "code",
   "execution_count": 128,
   "id": "d502ab31-559f-4a60-be06-693eac0dfca6",
   "metadata": {
    "tags": []
   },
   "outputs": [
    {
     "data": {
      "text/markdown": [
       "<div class='separator'><hr></div><div class='f18'><strong>Problem 3: Plotting the exponential function</strong> (6 points)</div>"
      ],
      "text/plain": [
       "<IPython.core.display.Markdown object>"
      ]
     },
     "metadata": {},
     "output_type": "display_data"
    }
   ],
   "source": [
    "displayProblemHeading('Plotting the exponential function',6)"
   ]
  },
  {
   "cell_type": "code",
   "execution_count": 129,
   "id": "8c323446-4b4b-4509-959e-8d5e1d8e6def",
   "metadata": {},
   "outputs": [
    {
     "data": {
      "image/png": "[encoded data removed]",
      "text/plain": [
       "<Figure size 432x288 with 1 Axes>"
      ]
     },
     "metadata": {
      "needs_background": "light"
     },
     "output_type": "display_data"
    }
   ],
   "source": [
    "# import numpy as np\n",
    "import matplotlib\n",
    "import matplotlib.pyplot as plt\n",
    "import scipy.stats as stats\n",
    "\n",
    "plt.rcParams.update({'font.size': 16})\n",
    "x = np.linspace(start=0, stop=6, num=100)\n",
    "y = stats.norm.pdf(x, 1, 1) \n",
    "# y = np.exp(-x)\n",
    "plt.xlim(0, 6)\n",
    "plt.xlabel('x (nm)')\n",
    "plt.plot(x, y)\n",
    "plt.show()"
   ]
  },
  {
   "cell_type": "code",
   "execution_count": 130,
   "id": "c1a49b29-6a6a-44cd-8852-f1ee4b51d76a",
   "metadata": {
    "tags": []
   },
   "outputs": [
    {
     "data": {
      "text/markdown": [
       "<div class='separator'><hr></div><div class='f18'><strong>Problem 4: Periodic Table</strong> (3 points)</div>"
      ],
      "text/plain": [
       "<IPython.core.display.Markdown object>"
      ]
     },
     "metadata": {},
     "output_type": "display_data"
    }
   ],
   "source": [
    "displayProblemHeading('Periodic Table',3)"
   ]
  },
  {
   "cell_type": "markdown",
   "id": "aecbc36c-e995-4435-a380-85917c76c699",
   "metadata": {
    "tags": []
   },
   "source": [
    "<div class='f18'>\n",
    "<p>\n",
    "    The periodic table contains a wealth of information about the elements. As you probably know, the table is organized so that \n",
    "    elements in a given column have similar outer shell electron configurations.  It is the outer shell electrons which dominate\n",
    "    the chemical and electrical properties of an element, and so columns of elements tend to have similar properties.\n",
    "    For semiconductor device physics, knowing the column of an element can tell us what type of alloys it can form, as well\n",
    "    as whether the element will act as a donor or acceptor of electrons inside another crystal structure.\n",
    "</p>\n",
    "</div>"
   ]
  },
  {
   "cell_type": "markdown",
   "id": "6be0b621-1e2a-4b43-8b3f-d4d20898e8de",
   "metadata": {},
   "source": [
    " <img id='PeriodicTable' src=\"images/PeriodicTable.png\" alt=\"Periodic Table\"> "
   ]
  },
  {
   "cell_type": "markdown",
   "id": "9f65e39a-8f05-463b-90c7-ed927d8283fe",
   "metadata": {
    "tags": []
   },
   "source": [
    "<div class='f18'>Use the following dropdowns to identify the columns to which the given elements belong.</div>"
   ]
  },
  {
   "cell_type": "code",
   "execution_count": 131,
   "id": "84e46e6d-504c-4b5f-9c39-f4c2a85cbeef",
   "metadata": {
    "tags": []
   },
   "outputs": [
    {
     "data": {
      "text/markdown": [
       "<div class='burnt-orange f18 center answer'>&mapstodown; Enter your answer(s) in the cell below &mapstodown;</div>\n"
      ],
      "text/plain": [
       "<IPython.core.display.Markdown object>"
      ]
     },
     "metadata": {},
     "output_type": "display_data"
    },
    {
     "data": {
      "application/vnd.jupyter.widget-view+json": {
       "model_id": "394472d34bb3460f87f473fbaea779db",
       "version_major": 2,
       "version_minor": 0
      },
      "text/plain": [
       "Dropdown(description='silicon', options=('-', 'IIB', 'IIIA', 'IVA', 'VA'), value='-')"
      ]
     },
     "metadata": {},
     "output_type": "display_data"
    },
    {
     "data": {
      "application/vnd.jupyter.widget-view+json": {
       "model_id": "acd9891d77b2406983f75039e0fdf081",
       "version_major": 2,
       "version_minor": 0
      },
      "text/plain": [
       "Dropdown(description='gallium', options=('-', 'IIB', 'IIIA', 'IVA', 'VA'), value='-')"
      ]
     },
     "metadata": {},
     "output_type": "display_data"
    },
    {
     "data": {
      "application/vnd.jupyter.widget-view+json": {
       "model_id": "7465a64d1c1b48b39e8e65a1813e41ac",
       "version_major": 2,
       "version_minor": 0
      },
      "text/plain": [
       "Dropdown(description='arsenic', options=('-', 'IIB', 'IIIA', 'IVA', 'VA'), value='-')"
      ]
     },
     "metadata": {},
     "output_type": "display_data"
    },
    {
     "data": {
      "application/vnd.jupyter.widget-view+json": {
       "model_id": "ecbc6699c60b4080ac77f51dc23b1224",
       "version_major": 2,
       "version_minor": 0
      },
      "text/plain": [
       "Dropdown(description='zinc', options=('-', 'IIB', 'IIIA', 'IVA', 'VA'), value='-')"
      ]
     },
     "metadata": {},
     "output_type": "display_data"
    },
    {
     "data": {
      "application/vnd.jupyter.widget-view+json": {
       "model_id": "be2269c91293457fbbe99c5926753c38",
       "version_major": 2,
       "version_minor": 0
      },
      "text/plain": [
       "Dropdown(description='germanium', options=('-', 'IIB', 'IIIA', 'IVA', 'VA'), value='-')"
      ]
     },
     "metadata": {},
     "output_type": "display_data"
    },
    {
     "data": {
      "application/vnd.jupyter.widget-view+json": {
       "model_id": "7a8ea3448796416b8d289880f86d04c2",
       "version_major": 2,
       "version_minor": 0
      },
      "text/plain": [
       "Dropdown(description='phosphorus', options=('-', 'IIB', 'IIIA', 'IVA', 'VA'), value='-')"
      ]
     },
     "metadata": {},
     "output_type": "display_data"
    }
   ],
   "source": [
    "answerAdvisory()\n",
    "columnOptions=('-', 'IIB', 'IIIA', 'IVA', 'VA')\n",
    "dropdownElements = []\n",
    "def on_change(change):\n",
    "    if change['type'] == 'change' and change['name'] == 'value':\n",
    "        # print(change['owner'].description, change['owner'].value)\n",
    "        display(\"I changed to %s\" % change['new'])\n",
    "        for dropdown in dropdownElements:\n",
    "            print(dropdown.value)\n",
    "for element in ('silicon', 'gallium', 'arsenic', 'zinc', 'germanium', 'phosphorus'):\n",
    "    dropdown = widgets.Dropdown(\n",
    "       # style={'description_width': 'initial'},\n",
    "       options=columnOptions,\n",
    "       description= element)\n",
    "    dropdown.observe(on_change)\n",
    "    dropdownElements.append( dropdown )\n",
    "    display(dropdown)\n",
    "    \n",
    "# dropdownGa = widgets.Dropdown(\n",
    "#        # style={'description_width': 'initial'},\n",
    "#         # layout={'width': '290px'},\n",
    "#        options=['-', 'IIB', 'IIIA', 'IVA'],\n",
    "#        description='Column for gallium:')\n",
    "# display(dropdownSi)\n",
    "# display(dropdownGa)\n",
    "# widgets.HBox([widgets.Label('Column for gallium'), dropdownGa])"
   ]
  },
  {
   "cell_type": "code",
   "execution_count": 132,
   "id": "953ae216-2d3b-47ec-8ca1-71157ecea8f1",
   "metadata": {},
   "outputs": [
    {
     "data": {
      "text/markdown": [
       "\n",
       "<div class='f18 green'><em>Now is a good time to save your code to your computer's local storage.</em>\n"
      ],
      "text/plain": [
       "<IPython.core.display.Markdown object>"
      ]
     },
     "metadata": {},
     "output_type": "display_data"
    }
   ],
   "source": [
    "display(Markdown(saveAdvisory))"
   ]
  },
  {
   "cell_type": "markdown",
   "id": "7613d3d4-625d-4716-8009-a365579a8150",
   "metadata": {},
   "source": [
    "Upload your work to Canvas"
   ]
  },
  {
   "cell_type": "code",
   "execution_count": 133,
   "id": "2eb6afe4-947d-49b6-8e03-5a3813cc3889",
   "metadata": {
    "tags": []
   },
   "outputs": [
    {
     "data": {
      "text/markdown": [
       "<div class='f18'><strong>Total points: 29</strong></div>"
      ],
      "text/plain": [
       "<IPython.core.display.Markdown object>"
      ]
     },
     "metadata": {},
     "output_type": "display_data"
    }
   ],
   "source": [
    "displayTotalPoints()"
   ]
  },
  {
   "cell_type": "code",
   "execution_count": 134,
   "id": "bdc202c9-0868-4d19-9913-0f0ef96735af",
   "metadata": {},
   "outputs": [
    {
     "data": {
      "text/plain": [
       "'{\"silicon\": \"-\", \"gallium\": \"-\", \"arsenic\": \"-\", \"zinc\": \"-\", \"germanium\": \"-\", \"phosphorus\": \"-\"}'"
      ]
     },
     "metadata": {},
     "output_type": "display_data"
    }
   ],
   "source": [
    "import json\n",
    "\n",
    "dropdownDict = {d.description: d.value for d in dropdownElements}\n",
    "# dropdownValues = [ d.value for d in dropdownElements ]\n",
    "jsonString = json.dumps(dropdownDict)\n",
    "display(jsonString)\n",
    "with open('dropdown.json', 'w') as f:\n",
    "    f.write(jsonString)   "
   ]
  },
  {
   "cell_type": "code",
   "execution_count": 135,
   "id": "03e57ac4-f3c8-4271-871d-55a4c275eb54",
   "metadata": {
    "tags": []
   },
   "outputs": [
    {
     "name": "stdout",
     "output_type": "stream",
     "text": [
      "numpy==1.21.5\n",
      "matplotlib==3.5.2\n",
      "ipywidgets==7.7.0\n",
      "json==2.0.9\n",
      "scipy==1.8.0\n"
     ]
    }
   ],
   "source": [
    "# In[1]:\n",
    "\n",
    "print('\\n'.join(f'{m.__name__}=={m.__version__}' for m in globals().values() if getattr(m, '__version__', None)))"
   ]
  },
  {
   "cell_type": "code",
   "execution_count": null,
   "id": "b11f7f9d-2f5f-4e1d-afb2-c95c9d613809",
   "metadata": {},
   "outputs": [
    {
     "data": {
      "application/javascript": [
       "document.body.dispatchEvent(new KeyboardEvent('keydown', {key:'s', keyCode: 83, ctrlKey: true}))"
      ],
      "text/plain": [
       "<IPython.core.display.Javascript object>"
      ]
     },
     "metadata": {},
     "output_type": "display_data"
    }
   ],
   "source": [
    "display(jsSave)"
   ]
  },
  {
   "cell_type": "code",
   "execution_count": null,
   "id": "c0558f7d-2826-4e36-8fa7-0323d362a791",
   "metadata": {},
   "outputs": [],
   "source": [
    "import scipy\n",
    "print('\\n'.join(f'{m.__name__}=={m.__version__}' for m in globals().values() if getattr(m, '__version__', None)))"
   ]
  }
 ],
 "metadata": {
  "kernelspec": {
   "display_name": "Python 3 (ipykernel)",
   "language": "python",
   "name": "python3"
  },
  "language_info": {
   "codemirror_mode": {
    "name": "ipython",
    "version": 3
   },
   "file_extension": ".py",
   "mimetype": "text/x-python",
   "name": "python",
   "nbconvert_exporter": "python",
   "pygments_lexer": "ipython3",
   "version": "3.10.4"
  },
  "toc-autonumbering": false,
  "toc-showcode": true,
  "toc-showmarkdowntxt": true,
  "toc-showtags": true
 },
 "nbformat": 4,
 "nbformat_minor": 5
}
