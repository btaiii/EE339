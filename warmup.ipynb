{
 "cells": [
  {
   "cell_type": "code",
   "execution_count": 1021,
   "id": "87eeff55-46fe-4486-a895-2985ca2458d9",
   "metadata": {
    "jupyter": {
     "source_hidden": true
    },
    "tags": []
   },
   "outputs": [],
   "source": [
    "import math\n",
    "from IPython.display import display, Markdown, Latex\n",
    "# from IPython.display import display, Markdown, clear_output\n",
    "# widget packages\n",
    "import ipywidgets as widgets\n",
    "totalPoints = 0\n",
    "problemNumber = 1\n",
    "\n",
    "def displayProblemHeading(name, points):\n",
    "    global totalPoints, problemNumber\n",
    "    heading = f\"<hr><div class='f18'><strong>Problem {problemNumber}: {name}</strong> ({points} points)</div>\"\n",
    "    display(Markdown(heading))\n",
    "    totalPoints += points\n",
    "    problemNumber += 1\n",
    "    \n",
    "def displayTotalPoints():\n",
    "    markdown = f\"<div class='f18'><strong>Total points: {totalPoints}</strong></div>\"\n",
    "    display(Markdown(markdown))\n",
    "    \n",
    "\n",
    "def answerAdvisory():\n",
    "    answerHere = '''<div class='burnt-orange f18 center answer'>&mapstodown; Enter your answer(s) in the cell below &mapstodown;</div>\n",
    "'''\n",
    "    display(Markdown(answerHere))\n",
    "\n",
    "saveAdvisory='''\n",
    "<div class='f18 green'><em>Now is a good time to save your code to your computer's local storage.</em>\n",
    "'''\n"
   ]
  },
  {
   "cell_type": "code",
   "execution_count": 1022,
   "id": "e499a04e-f025-400a-af71-c21c15577625",
   "metadata": {
    "jupyter": {
     "source_hidden": true
    },
    "tags": []
   },
   "outputs": [
    {
     "data": {
      "text/html": [
       "<style>\n",
       "h1, h2 { \n",
       "    margin: 0 0 10px 0 !important;\n",
       " }\n",
       "img { \n",
       "     width: 400px; \n",
       " }\n",
       ".right { text-align: right; }\n",
       ".center { text-align: center; }\n",
       ".burnt-orange { color: #cc5500; }\n",
       ".red { color: crimson; }\n",
       ".green { color: ForestGreen; }\n",
       "div.f18 { font-size: 18pt;}\n",
       "div.f18 p { text-align: justify; }\n",
       "div.answer { border: 5px solid #ffc680; border-radius: 5px; }\n",
       "hr { width: 80%;   border: 10px solid #ffc680;  border-radius: 5px;}\n",
       "div.f18 code { color: SteelBlue; }\n",
       "pre.code { color: SteelBlue; }\n",
       "div.topic { color: crimson;  font-style: italic; }\n",
       "</style>\n"
      ],
      "text/plain": [
       "<IPython.core.display.HTML object>"
      ]
     },
     "metadata": {},
     "output_type": "display_data"
    }
   ],
   "source": [
    "%%html\n",
    "<style>\n",
    "h1, h2 { \n",
    "    margin: 0 0 10px 0 !important;\n",
    " }\n",
    "img { \n",
    "     width: 400px; \n",
    " }\n",
    ".right { text-align: right; }\n",
    ".center { text-align: center; }\n",
    ".burnt-orange { color: #cc5500; }\n",
    ".red { color: crimson; }\n",
    ".green { color: ForestGreen; }\n",
    "div.f18 { font-size: 18pt;}\n",
    "div.f18 p { text-align: justify; }\n",
    "div.answer { border: 5px solid #ffc680; border-radius: 5px; }\n",
    "hr { width: 80%;   border: 10px solid #ffc680;  border-radius: 5px;}\n",
    "div.f18 code { color: SteelBlue; }\n",
    "pre.code { color: SteelBlue; }\n",
    "div.topic { color: crimson;  font-style: italic; }\n",
    "</style>"
   ]
  },
  {
   "cell_type": "markdown",
   "id": "f5c5f0b9-960c-449a-9d47-0408a81c1b01",
   "metadata": {
    "tags": []
   },
   "source": [
    "<h1 class='burnt-orange right'>ECE 339 &ndash; Solid-State Electronic Devices</h1>\n",
    "<h2 class='burnt-orange right'>Univ. of Texas at Austin &ndash; Fall 2022</h2>\n",
    "<h2 class='burnt-orange right'>Prof. Sanjay Banerjee</h2>\n",
    "<h2 class='burnt-orange right'>TA &ndash; Branch Archer</h2>\n",
    "\n",
    "<h2 class='center'><strong>Homework #1 &ndash; Warmup Exercise</strong></h2>\n",
    "<div class='f18'>\n",
    "<p>Welcome to ECE 339, Solid-State Electronic Devices!</p>\n",
    "<p id='j'>This semester, rather than traditional homework, I will be trying out a new style of homework. I hope this will be a great learning experience for you, \n",
    "    but if students find it unhelpful or too cumbersome, we can revert back to normal handwritten homework assignments.  I would like to try this new\n",
    "approach out for at least this warmup assignment and Homework #1.</p>\n",
    "\n",
    "<p>You will be using the Python programming language, but only the minimal number of features to perform some quantitative analysis, and to make some graphs. \n",
    "    Don't worry &hellip; this is not a programming course. We will walk you through the minimal amount of Python skills you will need.\n",
    "    I was TA for this course in Spring of 2022, and that experience leads me to believe\n",
    "this approach will help you.</p>\n",
    "\n",
    "<p>These exercises are part of a so-called <em>Jupyter Notebook</em>, which is a software package for relaying scientific information in an interactive\n",
    "    format on the Web. Python code can be embedded in these notebooks, and you will be entering some Python code to complete the exercises. Wherever\n",
    "    you see the advisory \"Place your answer in the cell below\", you are expected to enter information in the following box.</p>\n",
    "\n",
    "<p>This warmup exercise is designed to help you focus on becoming acquainted with the homework environment.  The actual content of the assigment\n",
    "    is set up to be very simple, and ensure that you know how to solve, save, and submit your assignments.</p>\n",
    "    \n",
    "<p><strong>Extra credit opportunity: </strong>Each week I would like a student to volunteer to submit their assignment before the weekend.</p>\n",
    "</div>\n",
    "<div class='right f18'>&ndash; Branch Archer, TA</div>"
   ]
  },
  {
   "cell_type": "code",
   "execution_count": 1023,
   "id": "a1cb3d70-6de0-4e8e-8c8e-5bf63e31ec84",
   "metadata": {
    "jupyter": {
     "source_hidden": true
    },
    "tags": []
   },
   "outputs": [
    {
     "data": {
      "text/markdown": [
       "<hr><div class='f18'><strong>Problem 1: Scientific Notation</strong> (2 points)</div>"
      ],
      "text/plain": [
       "<IPython.core.display.Markdown object>"
      ]
     },
     "metadata": {},
     "output_type": "display_data"
    }
   ],
   "source": [
    "displayProblemHeading('Scientific Notation',2)"
   ]
  },
  {
   "cell_type": "markdown",
   "id": "cf369ab8-9d28-49a3-a01a-04d3ac7086f1",
   "metadata": {},
   "source": [
    "<div class='f18'>\n",
    "    <p>In solid-state device electronics, as in most other areas of physics and engineering, you will be dealing with numbers ranging from very small to very large.  \n",
    "        Reading numbers with many digits is difficult and inhibits our understanding.  As you know, scientific notation was developed to circumvent\n",
    "        this difficulty.  The following number represents a 1 followed by 15 zeroes (i.e., one quadrillion):</p>\n",
    "$$ 1 \\times 10^{15} $$\n",
    "    <p>where 1 is the mantissa and 15 is the exponent. In Python, scientific notation is easy to implement. \n",
    "        As in many (most?) other programming languages, this value of 1 quadrillion is represented as <code>1e15</code>. To set the variable <code>x</code>\n",
    "        to this value in Python, we would simply write <pre class='code'>x = 1e15\n",
    "        </pre>\n",
    "        where the number before 'e' is the mantissa, and the number\n",
    "        after 'e' is the exponent.\n",
    "    </p>\n",
    "    <p>As you probably know the speed of light is approximately $3\\times 10^8$ m/s (meters per second). In the following box, change the Python code to set the variable <code>c_m_s</code> to this value,\n",
    "    using Python-style scientific notation. Note that we are including the units as part of the variable name, because confusion over units is a frequent source of\n",
    "    errors.</p>\n",
    "</div>"
   ]
  },
  {
   "cell_type": "code",
   "execution_count": 1024,
   "id": "aa0a07ee-4147-44f5-89ec-6720a2710357",
   "metadata": {
    "tags": []
   },
   "outputs": [
    {
     "data": {
      "text/markdown": [
       "<div class='burnt-orange f18 center answer'>&mapstodown; Enter your answer(s) in the cell below &mapstodown;</div>\n"
      ],
      "text/plain": [
       "<IPython.core.display.Markdown object>"
      ]
     },
     "metadata": {},
     "output_type": "display_data"
    }
   ],
   "source": [
    "answerAdvisory()"
   ]
  },
  {
   "cell_type": "code",
   "execution_count": 1025,
   "id": "acd86456-e75b-41f1-836f-61f528e000b4",
   "metadata": {},
   "outputs": [],
   "source": [
    "c_m_s = 0"
   ]
  },
  {
   "cell_type": "code",
   "execution_count": 1026,
   "id": "34c16684-c5c7-4430-8c92-ecc7270dd01d",
   "metadata": {
    "tags": []
   },
   "outputs": [
    {
     "data": {
      "text/markdown": [
       "Hmmm &hellip; the speed of light is 0.00 m/s.  That's not too fast."
      ],
      "text/plain": [
       "<IPython.core.display.Markdown object>"
      ]
     },
     "execution_count": 1026,
     "metadata": {},
     "output_type": "execute_result"
    }
   ],
   "source": [
    "if c_m_s > 0:\n",
    "    exp = int(math.log10(c_m_s))\n",
    "    mantissa = c_m_s / 10**exp\n",
    "    speed_of_light = f\"Wow &hellip; the speed of light is {c_m_s:.1e} m/s, or ${mantissa:.1f} \\\\times 10^{exp}$ m/s.  That's really fast!\"\n",
    "else:\n",
    "    speed_of_light = f\"Hmmm &hellip; the speed of light is {c_m_s:.2f} m/s.  That's not too fast.\"\n",
    "\n",
    "Markdown(speed_of_light)"
   ]
  },
  {
   "cell_type": "markdown",
   "id": "e0bd936e-8093-4bf9-915b-e6daae75cc7d",
   "metadata": {},
   "source": [
    "![title](images/upload_file_icon.jpg)"
   ]
  },
  {
   "cell_type": "code",
   "execution_count": 1027,
   "id": "8b838d64-2c15-42fb-bf3e-f614832fd3aa",
   "metadata": {
    "tags": []
   },
   "outputs": [
    {
     "data": {
      "text/markdown": [
       "\n",
       "<div class='f18 green'><em>Now is a good time to save your code to your computer's local storage.</em>\n"
      ],
      "text/plain": [
       "<IPython.core.display.Markdown object>"
      ]
     },
     "metadata": {},
     "output_type": "display_data"
    }
   ],
   "source": [
    "display(Markdown(saveAdvisory))"
   ]
  },
  {
   "cell_type": "code",
   "execution_count": 1049,
   "id": "bf677a43-4532-4a0a-a427-66668ba33910",
   "metadata": {
    "tags": []
   },
   "outputs": [
    {
     "data": {
      "text/markdown": [
       "<hr><div class='f18'><strong>Problem 5: Physical Constants</strong> (18 points)</div>"
      ],
      "text/plain": [
       "<IPython.core.display.Markdown object>"
      ]
     },
     "metadata": {},
     "output_type": "display_data"
    }
   ],
   "source": [
    "displayProblemHeading('Physical Constants', 18)"
   ]
  },
  {
   "cell_type": "markdown",
   "id": "346da514-ab44-48e8-8656-26e90b8b83a7",
   "metadata": {},
   "source": [
    "<div class='f18'><p>For this course, there are a few very important physical constants that it will be helpful for you to know from memory, \n",
    "    or at least know their order of magnitude.</p>\n",
    "    <div class='topic'>Fundamental charge</div>\n",
    "    <p>As you know, the charge carrier for current in electronic devices is the electron.  All electrons have identical charge, whose magnitude is known as the\n",
    "        <em>fundamental charge</em>.  A proton carries one positive unit of fundamental charge. The fundamental charge is most frequently\n",
    "        represented with the variable $q$, but sometimes as $e$. The unit of charge is Coulombs (abbreviated C). In keeping with our approach of naming\n",
    "        our variables with a unit reminder, we will call the fundamental charge <code>q_c</code> in out Python code. Look up the value\n",
    "        for the fundamental charge (in C), and set the value of <code>q_c</code> in the cell below.\n",
    "    </p>\n",
    "</div>"
   ]
  },
  {
   "cell_type": "code",
   "execution_count": 1029,
   "id": "646bca07-300f-4c25-87aa-087bac8b911c",
   "metadata": {
    "jupyter": {
     "source_hidden": true
    },
    "tags": []
   },
   "outputs": [
    {
     "data": {
      "text/markdown": [
       "<div class='burnt-orange f18 center answer'>&mapstodown; Enter your answer(s) in the cell below &mapstodown;</div>\n"
      ],
      "text/plain": [
       "<IPython.core.display.Markdown object>"
      ]
     },
     "metadata": {},
     "output_type": "display_data"
    }
   ],
   "source": [
    "answerAdvisory()"
   ]
  },
  {
   "cell_type": "code",
   "execution_count": 1030,
   "id": "b6e4d32d-4f12-4f2c-b612-8ba943c9f7ae",
   "metadata": {},
   "outputs": [],
   "source": [
    "q_c = 0"
   ]
  },
  {
   "cell_type": "markdown",
   "id": "139fac31-7a2a-4bf3-8ce0-bcb1d3619d27",
   "metadata": {
    "tags": []
   },
   "source": [
    "<div class='f18'>\n",
    "    <div class='topic'>Vacuum permittivity</div>\n",
    "    <p>Another important constant is the vacuum permitivitty, or permittivity of free space, most often represented as $\\epsilon_0$\n",
    "    Its units are capacitance per unit distance.  Look up the vacuum permittivity and set variable \n",
    "    <code>epsilon_F_cm</code> to its value in Farads per centimeter (F/cm), with at least 3 digits of numerical precsions.  \n",
    "    Also set variable <code>epsilon_F_m</code> to its value in Farads per meter (F/m).\n",
    "    </p>\n",
    "</div>"
   ]
  },
  {
   "cell_type": "code",
   "execution_count": 1031,
   "id": "6ddbe6a6-4fd9-4c14-a92a-a0a8dcf5eff0",
   "metadata": {
    "jupyter": {
     "source_hidden": true
    },
    "tags": []
   },
   "outputs": [
    {
     "data": {
      "text/markdown": [
       "<div class='burnt-orange f18 center answer'>&mapstodown; Enter your answer(s) in the cell below &mapstodown;</div>\n"
      ],
      "text/plain": [
       "<IPython.core.display.Markdown object>"
      ]
     },
     "metadata": {},
     "output_type": "display_data"
    }
   ],
   "source": [
    "answerAdvisory()"
   ]
  },
  {
   "cell_type": "code",
   "execution_count": 1032,
   "id": "08811ea2-761e-4032-9756-e2941ff00897",
   "metadata": {},
   "outputs": [],
   "source": [
    "epsilon_F_cm = 0\n",
    "epsilon_F_m = 0"
   ]
  },
  {
   "cell_type": "markdown",
   "id": "dc545619-5a73-431c-a0f0-fa3e7c8a0921",
   "metadata": {},
   "source": [
    "<div class='f18'>\n",
    "<p>\n",
    "From your electricity and magnetism course, you should know that the presence of a dielectric material modifies the vacuum permittivity by a multiplicative factor called the <em>relative permittivity</em>, often denoted by $\\epsilon_r$. In solid-state electronics, a frequently used insulator\n",
    "    is the oxide of silicon, SiO<sub>2</sub>, or silicon dioxide.  We also need to know how charge behaves inside silicon (Si), for which we need\n",
    "    to know the relative permittivity of silicon.\n",
    "</p>\n",
    "    <p>Look up the relative permittivities of Si and SiO<sub>2</sub>.  \n",
    "        Then set the variable <code>epsilon_r_si</code> to the relative permittivity of silicon, and set the value of <code>epsilon_r_sio2</code>\n",
    "to the relative permittivity of SiO<sub>2</sub> in the cell below.  Note that the relative permittivity is dimensionless.\n",
    "Also note that a couple of comments are included in the Python code to promote clarity for the reader (which is you!).\n",
    "The pound sign '#' (or hash sign) is used to begin a comment in Python.\n",
    "</p>\n",
    "</div>"
   ]
  },
  {
   "cell_type": "code",
   "execution_count": 1033,
   "id": "b5258c0f-8d12-457d-b0da-c8a9ed2204a5",
   "metadata": {
    "jupyter": {
     "source_hidden": true
    },
    "tags": []
   },
   "outputs": [
    {
     "data": {
      "text/markdown": [
       "<div class='burnt-orange f18 center answer'>&mapstodown; Enter your answer(s) in the cell below &mapstodown;</div>\n"
      ],
      "text/plain": [
       "<IPython.core.display.Markdown object>"
      ]
     },
     "metadata": {},
     "output_type": "display_data"
    }
   ],
   "source": [
    "answerAdvisory()"
   ]
  },
  {
   "cell_type": "code",
   "execution_count": 1034,
   "id": "4f793a6c-aa66-4889-81f9-663c05929949",
   "metadata": {},
   "outputs": [],
   "source": [
    "# relative permittivity of silicon\n",
    "epsilon_r_si = 0\n",
    "# relative permittivity of silicon dioxide\n",
    "epsilon_r_sio2 = 0"
   ]
  },
  {
   "cell_type": "markdown",
   "id": "f352e51d-8787-4218-8d56-42beb7e82705",
   "metadata": {},
   "source": [
    "<div class='f18'>\n",
    "    <div class='topic'>Material permittivity</div>\n",
    "<p>\n",
    "    Now we will perform our first simple computation. You probably know that Python, like most programming languages, uses an asterisk ('*') for multiplication. Thus, if I want to set a variable <code>x</code> to the product if <code>y</code> and <code>z</code>, I would write\n",
    "    <pre class='code'>x = y * z\n",
    "    </pre>\n",
    "    The permittivity of a material is its relative permittivity multiplied by the vacuum permittivity. \n",
    "    Using the variables we have defined above, compute the permittivities of silicon and silicon dioxide.  The Python <code>print</code>\n",
    "    method will be used to display your results.  \n",
    "    We print each variable in exponential notation with 3 digits of precision by using <code>.3e</code> as the <em>format-specifier</em>.\n",
    "</p>\n",
    "</div>"
   ]
  },
  {
   "cell_type": "code",
   "execution_count": 1035,
   "id": "cc0a2638-6e60-4f22-820a-e3d5e044b65a",
   "metadata": {
    "jupyter": {
     "source_hidden": true
    },
    "tags": []
   },
   "outputs": [
    {
     "data": {
      "text/markdown": [
       "<div class='burnt-orange f18 center answer'>&mapstodown; Enter your answer(s) in the cell below &mapstodown;</div>\n"
      ],
      "text/plain": [
       "<IPython.core.display.Markdown object>"
      ]
     },
     "metadata": {},
     "output_type": "display_data"
    }
   ],
   "source": [
    "answerAdvisory()"
   ]
  },
  {
   "cell_type": "code",
   "execution_count": 1036,
   "id": "c31584db-6c59-4492-b381-782b6411eb6a",
   "metadata": {},
   "outputs": [
    {
     "name": "stdout",
     "output_type": "stream",
     "text": [
      "The permittivity of Si is 0.000e+00\n",
      "The permittivity of SiO2 is 0.000e+00\n",
      "Now we're getting somewhere!\n"
     ]
    }
   ],
   "source": [
    "# permittivity of silicon\n",
    "epsilon_r_si = 0\n",
    "# permittivity of silicon dioxide\n",
    "epsilon_r_sio2 = 0\n",
    "print(f'The permittivity of Si is {epsilon_r_si:.3e}')\n",
    "print(f'The permittivity of SiO2 is {epsilon_r_sio2:.3e}')\n",
    "print(\"Now we're getting somewhere!\")"
   ]
  },
  {
   "cell_type": "markdown",
   "id": "848651bd-9ce3-4ee2-9968-753ef0018763",
   "metadata": {},
   "source": [
    "<div class='f18'>\n",
    "    <div class='topic'>Thermal energy</div>\n",
    "<p>\n",
    "    Thermal energy at room temperature.\n",
    "</p>\n",
    "</div>"
   ]
  },
  {
   "cell_type": "code",
   "execution_count": 1037,
   "id": "a35c47b6-e7ba-4a0b-9ddd-427863463a23",
   "metadata": {
    "jupyter": {
     "source_hidden": true
    },
    "tags": []
   },
   "outputs": [
    {
     "data": {
      "text/markdown": [
       "<div class='burnt-orange f18 center answer'>&mapstodown; Enter your answer(s) in the cell below &mapstodown;</div>\n"
      ],
      "text/plain": [
       "<IPython.core.display.Markdown object>"
      ]
     },
     "metadata": {},
     "output_type": "display_data"
    }
   ],
   "source": [
    "answerAdvisory()"
   ]
  },
  {
   "cell_type": "code",
   "execution_count": 1038,
   "id": "65f9c7d0-083b-43eb-b2e2-4f8745ce21de",
   "metadata": {
    "jupyter": {
     "source_hidden": true
    },
    "tags": []
   },
   "outputs": [
    {
     "data": {
      "text/markdown": [
       "\n",
       "<div class='f18 green'><em>Now is a good time to save your code to your computer's local storage.</em>\n"
      ],
      "text/plain": [
       "<IPython.core.display.Markdown object>"
      ]
     },
     "metadata": {},
     "output_type": "display_data"
    }
   ],
   "source": [
    "display(Markdown(saveAdvisory))"
   ]
  },
  {
   "cell_type": "code",
   "execution_count": 1039,
   "id": "28f5c575-fbda-44c6-b2b3-41d55f45108f",
   "metadata": {
    "tags": []
   },
   "outputs": [
    {
     "data": {
      "text/markdown": [
       "*some markdown* $\\phi$"
      ],
      "text/plain": [
       "<IPython.core.display.Markdown object>"
      ]
     },
     "metadata": {},
     "output_type": "display_data"
    },
    {
     "data": {
      "text/latex": [
       "$\\phi$"
      ],
      "text/plain": [
       "<IPython.core.display.Latex object>"
      ]
     },
     "metadata": {},
     "output_type": "display_data"
    }
   ],
   "source": [
    "display(Markdown('*some markdown* $\\phi$'))\n",
    "# If you particularly want to display maths, this is more direct:\n",
    "display(Latex('$\\phi$'))"
   ]
  },
  {
   "cell_type": "code",
   "execution_count": 1040,
   "id": "6720e1ea-9ff2-4966-9283-284ec2228476",
   "metadata": {},
   "outputs": [],
   "source": [
    "# defining some widgets\n",
    "text = widgets.Text(\n",
    "       value='My Text',\n",
    "       description='Title', )\n",
    "calendar = widgets.DatePicker(\n",
    "           description='Select Date')\n",
    "slider = widgets.FloatSlider(\n",
    "         value=1,\n",
    "         min=0,\n",
    "         max=10.0,\n",
    "         step=0.1,)\n",
    "menu = widgets.Dropdown(\n",
    "       options=['-', 'red', 'blue', 'green'],\n",
    "       description='Color:')\n",
    "checkbox = widgets.Checkbox(\n",
    "           description='Check to invert',)"
   ]
  },
  {
   "cell_type": "code",
   "execution_count": 1041,
   "id": "691ef15a-0eac-4ea6-9ef8-c746d217596f",
   "metadata": {},
   "outputs": [
    {
     "data": {
      "application/vnd.jupyter.widget-view+json": {
       "model_id": "dc5017082a6c48bb8a7012b71053fa5e",
       "version_major": 2,
       "version_minor": 0
      },
      "text/plain": [
       "Dropdown(description='Color:', options=('-', 'red', 'blue', 'green'), value='-')"
      ]
     },
     "metadata": {},
     "output_type": "display_data"
    }
   ],
   "source": [
    "menu"
   ]
  },
  {
   "cell_type": "code",
   "execution_count": 1042,
   "id": "df8edbeb-1eb5-4f4d-aa9c-bb60dcd27eba",
   "metadata": {},
   "outputs": [
    {
     "data": {
      "text/plain": [
       "'-'"
      ]
     },
     "execution_count": 1042,
     "metadata": {},
     "output_type": "execute_result"
    }
   ],
   "source": [
    "menu.value"
   ]
  },
  {
   "cell_type": "code",
   "execution_count": 1043,
   "id": "ac0b50a3-886f-4d0f-8b15-9332489cfdc6",
   "metadata": {},
   "outputs": [
    {
     "data": {
      "application/vnd.jupyter.widget-view+json": {
       "model_id": "b1da6e5dfa9047f7be90bd52c56fc60d",
       "version_major": 2,
       "version_minor": 0
      },
      "text/plain": [
       "FloatSlider(value=1.0, max=10.0)"
      ]
     },
     "metadata": {},
     "output_type": "display_data"
    }
   ],
   "source": [
    "slider"
   ]
  },
  {
   "cell_type": "code",
   "execution_count": 1044,
   "id": "4a0a3da1-8073-4726-9fad-9d94045ec385",
   "metadata": {},
   "outputs": [
    {
     "data": {
      "text/plain": [
       "1.0"
      ]
     },
     "execution_count": 1044,
     "metadata": {},
     "output_type": "execute_result"
    }
   ],
   "source": [
    "slider.value"
   ]
  },
  {
   "cell_type": "code",
   "execution_count": 1045,
   "id": "03e57ac4-f3c8-4271-871d-55a4c275eb54",
   "metadata": {
    "tags": []
   },
   "outputs": [
    {
     "name": "stdout",
     "output_type": "stream",
     "text": [
      "ipywidgets==7.7.0\n",
      "pip==22.0.2\n"
     ]
    }
   ],
   "source": [
    "# In[1]:\n",
    "\n",
    "print('\\n'.join(f'{m.__name__}=={m.__version__}' for m in globals().values() if getattr(m, '__version__', None)))"
   ]
  },
  {
   "cell_type": "code",
   "execution_count": 1048,
   "id": "d502ab31-559f-4a60-be06-693eac0dfca6",
   "metadata": {},
   "outputs": [
    {
     "data": {
      "text/markdown": [
       "<hr><div class='f18'><strong>Problem 4: Periodic Table</strong> (3 points)</div>"
      ],
      "text/plain": [
       "<IPython.core.display.Markdown object>"
      ]
     },
     "metadata": {},
     "output_type": "display_data"
    }
   ],
   "source": [
    "displayProblemHeading('Periodic Table',3)"
   ]
  },
  {
   "cell_type": "code",
   "execution_count": 1047,
   "id": "2eb6afe4-947d-49b6-8e03-5a3813cc3889",
   "metadata": {
    "jupyter": {
     "source_hidden": true
    },
    "tags": []
   },
   "outputs": [
    {
     "data": {
      "text/markdown": [
       "<div class='f18'><strong>Total points: 11</strong></div>"
      ],
      "text/plain": [
       "<IPython.core.display.Markdown object>"
      ]
     },
     "metadata": {},
     "output_type": "display_data"
    }
   ],
   "source": [
    "displayTotalPoints()"
   ]
  }
 ],
 "metadata": {
  "kernelspec": {
   "display_name": "Python 3 (ipykernel)",
   "language": "python",
   "name": "python3"
  },
  "language_info": {
   "codemirror_mode": {
    "name": "ipython",
    "version": 3
   },
   "file_extension": ".py",
   "mimetype": "text/x-python",
   "name": "python",
   "nbconvert_exporter": "python",
   "pygments_lexer": "ipython3",
   "version": "3.10.4"
  },
  "toc-autonumbering": false,
  "toc-showcode": true,
  "toc-showmarkdowntxt": true,
  "toc-showtags": true
 },
 "nbformat": 4,
 "nbformat_minor": 5
}
