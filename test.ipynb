{
 "cells": [
  {
   "cell_type": "code",
   "execution_count": 19,
   "id": "596cc8e0-ef7c-4159-a971-bff3da05ba8b",
   "metadata": {},
   "outputs": [
    {
     "data": {
      "text/plain": [
       "'/home/branch/Dropbox/EE339_SolidStateElectronicDevices_Su2022/jupyter'"
      ]
     },
     "execution_count": 19,
     "metadata": {},
     "output_type": "execute_result"
    }
   ],
   "source": [
    "pwd"
   ]
  },
  {
   "cell_type": "markdown",
   "id": "f91228e6-f2b1-4da1-9cb2-c594689ea05e",
   "metadata": {
    "deletable": false,
    "editable": false,
    "tags": []
   },
   "source": [
    "## <span style='color:red'>Enter the fundamental charge</span>\n",
    "Some Markdown text with <span style=\"color:blue\">some *blue* text</span>."
   ]
  },
  {
   "cell_type": "code",
   "execution_count": 20,
   "id": "0a4fe9d4-e479-4acb-864e-0cb6f6cc5777",
   "metadata": {
    "deletable": false,
    "editable": false,
    "tags": []
   },
   "outputs": [],
   "source": [
    "q=1.6019e-19"
   ]
  },
  {
   "cell_type": "code",
   "execution_count": 21,
   "id": "f68115d8-5d6e-40b3-b8ba-01e9ca232fc2",
   "metadata": {},
   "outputs": [
    {
     "data": {
      "text/plain": [
       "'1.6019e-19'"
      ]
     },
     "execution_count": 21,
     "metadata": {},
     "output_type": "execute_result"
    }
   ],
   "source": [
    "f'{q:.4e}'"
   ]
  },
  {
   "cell_type": "code",
   "execution_count": 22,
   "id": "aaa0ee9a-c286-4c15-9867-07ca9090518f",
   "metadata": {},
   "outputs": [],
   "source": [
    "saveAdvisory='''\n",
    "Save your work <em style='color:red'>now</em>\n",
    "\n",
    "please\n",
    "'''"
   ]
  },
  {
   "cell_type": "code",
   "execution_count": 23,
   "id": "a1e563f8-a495-42a1-a246-70347a5b4187",
   "metadata": {},
   "outputs": [
    {
     "data": {
      "text/markdown": [
       "*some markdown* $\\phi$"
      ],
      "text/plain": [
       "<IPython.core.display.Markdown object>"
      ]
     },
     "metadata": {},
     "output_type": "display_data"
    },
    {
     "data": {
      "text/latex": [
       "$\\phi$"
      ],
      "text/plain": [
       "<IPython.core.display.Latex object>"
      ]
     },
     "metadata": {},
     "output_type": "display_data"
    },
    {
     "data": {
      "text/markdown": [
       "\n",
       "Save your work <em style='color:red'>now</em>\n",
       "\n",
       "please\n"
      ],
      "text/plain": [
       "<IPython.core.display.Markdown object>"
      ]
     },
     "metadata": {},
     "output_type": "display_data"
    }
   ],
   "source": [
    "from IPython.display import display, Markdown, Latex\n",
    "display(Markdown('*some markdown* $\\phi$'))\n",
    "# If you particularly want to display maths, this is more direct:\n",
    "display(Latex('$\\phi$'))\n",
    "display(Markdown(saveAdvisory))"
   ]
  },
  {
   "cell_type": "code",
   "execution_count": 25,
   "id": "d609a96a-0cb1-4256-9a02-b89815e6ca73",
   "metadata": {},
   "outputs": [
    {
     "name": "stdout",
     "output_type": "stream",
     "text": [
      "The fundamental charge is 1.6019e-19\n"
     ]
    }
   ],
   "source": [
    "print(f'The fundamental charge is {q:.4e}')"
   ]
  },
  {
   "cell_type": "code",
   "execution_count": null,
   "id": "39f5709b-6a39-417c-82de-08327b2a28a7",
   "metadata": {},
   "outputs": [],
   "source": []
  }
 ],
 "metadata": {
  "kernelspec": {
   "display_name": "Python 3 (ipykernel)",
   "language": "python",
   "name": "python3"
  },
  "language_info": {
   "codemirror_mode": {
    "name": "ipython",
    "version": 3
   },
   "file_extension": ".py",
   "mimetype": "text/x-python",
   "name": "python",
   "nbconvert_exporter": "python",
   "pygments_lexer": "ipython3",
   "version": "3.10.4"
  },
  "toc-autonumbering": false,
  "toc-showcode": true,
  "toc-showmarkdowntxt": true,
  "toc-showtags": true
 },
 "nbformat": 4,
 "nbformat_minor": 5
}
