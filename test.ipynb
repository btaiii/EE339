{
 "cells": [
  {
   "cell_type": "code",
   "execution_count": 19,
   "id": "596cc8e0-ef7c-4159-a971-bff3da05ba8b",
   "metadata": {},
   "outputs": [
    {
     "data": {
      "text/plain": [
       "'/home/branch/Dropbox/EE339_SolidStateElectronicDevices_Su2022/jupyter'"
      ]
     },
     "execution_count": 19,
     "metadata": {},
     "output_type": "execute_result"
    }
   ],
   "source": [
    "pwd"
   ]
  },
  {
   "cell_type": "markdown",
   "id": "f91228e6-f2b1-4da1-9cb2-c594689ea05e",
   "metadata": {
    "deletable": false,
    "editable": false,
    "tags": []
   },
   "source": [
    "## <span style='color:red'>Enter the fundamental charge</span>\n",
    "Some Markdown text with <span style=\"color:blue\">some *blue* text</span>."
   ]
  },
  {
   "cell_type": "code",
   "execution_count": 20,
   "id": "0a4fe9d4-e479-4acb-864e-0cb6f6cc5777",
   "metadata": {
    "deletable": false,
    "editable": false,
    "tags": []
   },
   "outputs": [],
   "source": [
    "q=1.6019e-19"
   ]
  },
  {
   "cell_type": "code",
   "execution_count": 21,
   "id": "f68115d8-5d6e-40b3-b8ba-01e9ca232fc2",
   "metadata": {},
   "outputs": [
    {
     "data": {
      "text/plain": [
       "'1.6019e-19'"
      ]
     },
     "execution_count": 21,
     "metadata": {},
     "output_type": "execute_result"
    }
   ],
   "source": [
    "import json\n",
    "\n",
    "with open('warmup.ipynb') as f:\n",
    "    data = json.load(f)\n",
    "  \n",
    "    # Iterating through the json\n",
    "    # list\n",
    "    for cell in data['cells']:\n",
    "        # if cell['cell_type'] != 'markdown':\n",
    "            print(cell['source'])\n",
    "            print()"
   ]
  },
  {
   "cell_type": "code",
   "execution_count": 1,
   "id": "bd8a5582-1559-442e-b283-b067d740c9fb",
   "metadata": {},
   "outputs": [
    {
     "ename": "ModuleNotFoundError",
     "evalue": "No module named 'google.colab'",
     "output_type": "error",
     "traceback": [
      "\u001b[0;31m---------------------------------------------------------------------------\u001b[0m",
      "\u001b[0;31mModuleNotFoundError\u001b[0m                       Traceback (most recent call last)",
      "Input \u001b[0;32mIn [1]\u001b[0m, in \u001b[0;36m<cell line: 2>\u001b[0;34m()\u001b[0m\n\u001b[1;32m      1\u001b[0m \u001b[38;5;66;03m# Obtain the notebook JSON as a string\u001b[39;00m\n\u001b[0;32m----> 2\u001b[0m \u001b[38;5;28;01mfrom\u001b[39;00m \u001b[38;5;21;01mgoogle\u001b[39;00m\u001b[38;5;21;01m.\u001b[39;00m\u001b[38;5;21;01mcolab\u001b[39;00m \u001b[38;5;28;01mimport\u001b[39;00m _message\n\u001b[1;32m      3\u001b[0m notebook_json_string \u001b[38;5;241m=\u001b[39m _message\u001b[38;5;241m.\u001b[39mblocking_request(\u001b[38;5;124m'\u001b[39m\u001b[38;5;124mget_ipynb\u001b[39m\u001b[38;5;124m'\u001b[39m, request\u001b[38;5;241m=\u001b[39m\u001b[38;5;124m'\u001b[39m\u001b[38;5;124m'\u001b[39m, timeout_sec\u001b[38;5;241m=\u001b[39m\u001b[38;5;241m5\u001b[39m)\n",
      "\u001b[0;31mModuleNotFoundError\u001b[0m: No module named 'google.colab'"
     ]
    }
   ],
   "source": [
    "# Obtain the notebook JSON as a string\n",
    "from google.colab import _message\n",
    "notebook_json_string = _message.blocking_request('get_ipynb', request='', timeout_sec=5)"
   ]
  }
 ],
 "metadata": {
  "kernelspec": {
   "display_name": "Python 3 (ipykernel)",
   "language": "python",
   "name": "python3"
  },
  "language_info": {
   "codemirror_mode": {
    "name": "ipython",
    "version": 3
   },
   "file_extension": ".py",
   "mimetype": "text/x-python",
   "name": "python",
   "nbconvert_exporter": "python",
   "pygments_lexer": "ipython3",
   "version": "3.10.4"
  },
  "toc-autonumbering": false,
  "toc-showcode": true,
  "toc-showmarkdowntxt": true,
  "toc-showtags": true
 },
 "nbformat": 4,
 "nbformat_minor": 5
}
